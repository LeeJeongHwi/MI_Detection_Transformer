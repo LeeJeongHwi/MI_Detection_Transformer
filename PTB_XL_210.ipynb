{
 "cells": [
  {
   "cell_type": "code",
   "execution_count": 1,
   "id": "47ad2975-4e19-4e9b-9253-698a634d3d56",
   "metadata": {},
   "outputs": [],
   "source": [
    "# ---- Nested function ---- #\n",
    "import os\n",
    "import pandas as pd\n",
    "import wfdb\n",
    "import ast\n",
    "import numpy as np\n",
    "import matplotlib.pyplot as plt\n",
    "from tqdm import tqdm\n",
    "import gc\n",
    "from pprint import pprint\n",
    "from collections import Counter\n",
    "import math\n",
    "from copy import deepcopy\n",
    "import random\n",
    "\n",
    "# # ---- BWR ---- #\n",
    "# import bwr\n",
    "# import emd\n",
    "# import pywt\n",
    "# ---- Scipy ---- #\n",
    "from scipy import signal\n",
    "from scipy.signal import butter, lfilter, freqz, filtfilt\n",
    "from scipy.fftpack import fft\n",
    "from scipy.signal import find_peaks\n",
    "from scipy.interpolate import interp1d\n",
    "\n",
    "\n",
    "# ---- PyTorch ---- #\n",
    "import torch\n",
    "import torchvision\n",
    "from torch import nn\n",
    "from torch import optim\n",
    "from torch import functional as F\n",
    "from torch.utils.data import TensorDataset, DataLoader, Dataset\n",
    "from torchvision.transforms import ToTensor\n",
    "from torch.nn.functional import softmax\n",
    "from torch.nn.parallel import DistributedDataParallel\n",
    "from pytorchtools import EarlyStopping\n",
    "from einops import rearrange, reduce, repeat\n",
    "from einops.layers.torch import Rearrange, Reduce\n",
    "import torchvision.ops as ops\n",
    "import tensorboard\n",
    "from tensorboardX import SummaryWriter\n",
    "\n",
    "# ---- Scikit Learn ---- #\n",
    "from sklearn.preprocessing import MinMaxScaler, RobustScaler\n",
    "from sklearn.model_selection import train_test_split\n",
    "from sklearn.preprocessing import Normalizer, StandardScaler\n",
    "from sklearn.model_selection import KFold\n",
    "\n",
    "\n",
    "# ---- Matplotlib ---- #\n",
    "import matplotlib.pyplot as plt\n",
    "import seaborn as sns\n",
    "\n",
    "# ---- Summary ---- #\n",
    "import pytorch_model_summary\n",
    "\n"
   ]
  },
  {
   "cell_type": "code",
   "execution_count": 2,
   "id": "2f83b367-449f-4248-beee-d424119c6996",
   "metadata": {},
   "outputs": [],
   "source": [
    "device = torch.device(\"cuda:0\" if torch.cuda.is_available() else \"cpu\")"
   ]
  },
  {
   "cell_type": "code",
   "execution_count": 3,
   "id": "1a45356d-7261-499a-bfa6-14ee9908f6a3",
   "metadata": {},
   "outputs": [],
   "source": [
    "class ViTEmbeddings(nn.Module):\n",
    "    def __init__(self, in_channel, emb_size, patch_size, dropout=0.0):\n",
    "        super().__init__()\n",
    "        \n",
    "        self.patch_size= patch_size\n",
    "        self.emb_size= emb_size\n",
    "        \n",
    "        self.patch_embeddings = nn.Sequential(\n",
    "            nn.Conv1d(in_channel, emb_size, kernel_size=patch_size, stride=patch_size),\n",
    "            Rearrange(\"b e (p) -> b (p) e\")\n",
    "        )\n",
    "        self.dropout = nn.Dropout(dropout)\n",
    "        \n",
    "        self.cls_token = nn.Parameter(torch.randn(1, 1, self.emb_size))\n",
    "        num_patches = 5000//patch_size\n",
    "        self.positions = nn.Parameter(torch.randn(1, num_patches +1, self.emb_size)) ## Num Patches....어케하지\n",
    "    \n",
    "    def forward(self, x):\n",
    "        input_shape = x.shape # B C L\n",
    "        embeddings = self.patch_embeddings(x)\n",
    "\n",
    "        cls_token = repeat(self.cls_token, \"() n e -> b n e\", b=input_shape[0])\n",
    "        x = torch.cat([cls_token, embeddings], dim=1)\n",
    "        x += self.positions\n",
    "        return x"
   ]
  },
  {
   "cell_type": "code",
   "execution_count": 4,
   "id": "d48c4f1e-5896-4ef3-b3d1-ca3ca43b7dd9",
   "metadata": {},
   "outputs": [
    {
     "data": {
      "text/plain": [
       "torch.Size([16, 251, 768])"
      ]
     },
     "execution_count": 4,
     "metadata": {},
     "output_type": "execute_result"
    }
   ],
   "source": [
    "embed = ViTEmbeddings(12,768,20,dropout=0.0)\n",
    "embed(torch.randn(16,12,5000)).shape"
   ]
  },
  {
   "cell_type": "code",
   "execution_count": 5,
   "id": "2aa53a69-be4c-4273-8b3a-9135fdcf68c7",
   "metadata": {},
   "outputs": [],
   "source": [
    "class MLP(nn.Module):\n",
    "    def __init__(self, emb_size: int = 768, expansion: int = 4, dropout=0.2, mlp_dim=256):\n",
    "        super().__init__()\n",
    "        self.mlps = nn.Sequential(\n",
    "            nn.Linear(emb_size, mlp_dim),\n",
    "            nn.GELU(),\n",
    "            nn.Dropout(dropout),\n",
    "            nn.Linear(mlp_dim, emb_size),\n",
    "            nn.Dropout(dropout)\n",
    "        )\n",
    "        \n",
    "    def forward(self, x):\n",
    "        x = self.mlps(x)\n",
    "        return x"
   ]
  },
  {
   "cell_type": "code",
   "execution_count": 6,
   "id": "10a52caa-9e3c-494e-969e-db907fc29b5f",
   "metadata": {},
   "outputs": [],
   "source": [
    "class EncoderBlock(nn.Module):\n",
    "    def __init__(self, emb_size: int=768, num_heads: int=6,f_expansion: int=4, f_dropout=0.2, dropout=0.2, sd_survive=0.0,**kwargs):\n",
    "        super().__init__()\n",
    "        self.attn = nn.MultiheadAttention(emb_size, num_heads, dropout, bias=True, batch_first=True)\n",
    "        self.lnorm = nn.LayerNorm(emb_size)\n",
    "        self.dropout = nn.Dropout(dropout)\n",
    "        self.mlp = MLP(emb_size, expansion=f_expansion, dropout=f_dropout, mlp_dim=256)\n",
    "        self.sd_survive=sd_survive\n",
    "        self.actv1 = nn.GELU()\n",
    "        self.actv2 = nn.GELU()\n",
    "    \n",
    "        self.stochasticLayer = ops.StochasticDepth(sd_survive, \"row\")\n",
    "        \n",
    "    def forward(self, x):\n",
    "        x_norm = self.lnorm(x)\n",
    "        x_norm, weight = self.attn(x_norm, x_norm, x_norm, average_attn_weights=False)\n",
    "        x_norm = self.stochasticLayer(x_norm)\n",
    "        x = torch.add(x_norm, x)\n",
    "        x2_norm = self.lnorm(x)\n",
    "        x2_norm = self.mlp(x2_norm)\n",
    "        x2_norm = self.stochasticLayer(x2_norm)\n",
    "        x2 = torch.add(x2_norm, x)\n",
    "        print(self.sd_survive)\n",
    "        return x2\n",
    "    \n",
    "    def get_attention_scores(self, inputs):\n",
    "        x = self.lnorm(inputs)\n",
    "        output, weight = self.attn(x, x, x, average_attn_weights=False)\n",
    "        print(output.shape, weight.shape)\n",
    "        return weight"
   ]
  },
  {
   "cell_type": "code",
   "execution_count": 7,
   "id": "e47c2af4-d5b5-4da1-9b5e-867e8bc302a0",
   "metadata": {},
   "outputs": [
    {
     "name": "stdout",
     "output_type": "stream",
     "text": [
      "torch.Size([16, 251, 768]) torch.Size([16, 6, 251, 251])\n"
     ]
    },
    {
     "data": {
      "text/plain": [
       "torch.Size([16, 6, 251, 251])"
      ]
     },
     "execution_count": 7,
     "metadata": {},
     "output_type": "execute_result"
    }
   ],
   "source": [
    "encoder = EncoderBlock(mlp_dim=256)\n",
    "x = encoder(torch.randn(16,251,768))\n",
    "encoder.get_attention_scores(torch.randn(16,251,768)).shape\n",
    "#N L S (L : Target_seqeunce Length, S : Source Sequence Length, N : Batch)\n",
    "# 사실상 N이 Batch이기 때문에, 16, 6, 251, 251 이런식으로 나와야함\n",
    "# 씨ㅣㅣㅣ빕ㅂㄹㄹ드디어 나왔다ㅏㅏㅏㅏㅏㅏㅏㅏㅏㅏㅏㅏㅏㅏㅏㅏㅏㅏㅏㅏ"
   ]
  },
  {
   "cell_type": "code",
   "execution_count": 8,
   "id": "ce76ed03-8d5a-426b-bacb-85436295e0fa",
   "metadata": {},
   "outputs": [],
   "source": [
    "class ClassificationHead(nn.Sequential):\n",
    "    def __init__(self, emb_size: int=768, n_classes: int=5):\n",
    "        super().__init__(\n",
    "            Reduce(\"b n e -> b e\", reduction=\"mean\"),\n",
    "            nn.LayerNorm(emb_size),\n",
    "            nn.Dropout(0.2),\n",
    "            nn.Linear(emb_size, n_classes)\n",
    "        )"
   ]
  },
  {
   "cell_type": "code",
   "execution_count": 9,
   "id": "5e1d13fe-ccf4-468b-ac14-7a780820a812",
   "metadata": {},
   "outputs": [],
   "source": [
    "class ViT(nn.Module):\n",
    "    def __init__(self, in_channel: int= 12, patch_size: int= 20, emb_size: int= 768, num_heads: int= 6, n_classes: int= 5, depth: int= 6, mlp_dim: int=256):\n",
    "        super().__init__()\n",
    "        self.in_channel = in_channel\n",
    "        self.patch_size = patch_size\n",
    "        self.emb_size = emb_size\n",
    "        self.num_heads = num_heads\n",
    "        self.n_classes = n_classes\n",
    "        self.depth = depth\n",
    "        self.mlp_dim = 256\n",
    "        self.sd_survive = np.linspace(0, 0.4, depth)\n",
    "        self.Blocks = nn.ModuleList([\n",
    "            EncoderBlock(mlp_dim=256, sd_survive=sd_survive[i]) for i in range(depth)\n",
    "        ])\n",
    "        self.Embeddings = ViTEmbeddings(in_channel, emb_size, patch_size)\n",
    "        self.ClassificationHead = ClassificationHead(emb_size, n_classes)\n",
    "    \n",
    "    def forward(self, x):\n",
    "        x = self.Embeddings(x)\n",
    "        for block in self.Blocks:\n",
    "            x = block(x)\n",
    "        result = self.ClassificationHead(x)\n",
    "        return result\n",
    "    \n",
    "    def get_last_selfattention(self, inputs):\n",
    "        x = self.Embeddings(inputs)\n",
    "        for block in self.Blocks[:-1]:\n",
    "            x = block(x)\n",
    "        return self.Blocks[-1].get_attention_scores(x)"
   ]
  },
  {
   "cell_type": "markdown",
   "id": "90c5170e-7e20-4247-8058-4c14d8800635",
   "metadata": {},
   "source": [
    "# DataLoader and shapes"
   ]
  },
  {
   "cell_type": "code",
   "execution_count": 10,
   "id": "9165f34c-2daa-4a62-88c0-08fe1a6f2c41",
   "metadata": {},
   "outputs": [],
   "source": [
    "x_train = np.load(\"/data/graduate/MI_Detection_Transformer/npy_data/x_train.npy\")\n",
    "y_train = np.load(\"/data/graduate/MI_Detection_Transformer/npy_data/y_train.npy\")\n",
    "x_valid = np.load(\"/data/graduate/MI_Detection_Transformer/npy_data/x_valid.npy\")\n",
    "y_valid = np.load(\"/data/graduate/MI_Detection_Transformer/npy_data/y_valid.npy\")\n",
    "x_test = np.load(\"/data/graduate/MI_Detection_Transformer/npy_data/x_test.npy\")\n",
    "y_test = np.load(\"/data/graduate/MI_Detection_Transformer/npy_data/y_test.npy\")"
   ]
  },
  {
   "cell_type": "code",
   "execution_count": 11,
   "id": "286d237d-c01f-47e6-b8b4-0b55daa89569",
   "metadata": {},
   "outputs": [
    {
     "data": {
      "text/plain": [
       "((13976, 12, 5000),\n",
       " (4368, 12, 5000),\n",
       " (3493, 12, 5000),\n",
       " (3493, 5),\n",
       " (13976, 5),\n",
       " (4368, 5))"
      ]
     },
     "execution_count": 11,
     "metadata": {},
     "output_type": "execute_result"
    }
   ],
   "source": [
    "x_train.shape, x_test.shape, x_valid.shape, y_valid.shape, y_train.shape, y_test.shape"
   ]
  },
  {
   "cell_type": "code",
   "execution_count": 12,
   "id": "9ba0f179-8c9a-4d26-a37d-0cbcb37d5252",
   "metadata": {},
   "outputs": [
    {
     "name": "stdout",
     "output_type": "stream",
     "text": [
      "['NORM', 'MI', 'STTC', 'HYP', 'CD']\n",
      "[1. 0. 0. 0. 0.]\n"
     ]
    },
    {
     "data": {
      "image/png": "[encoded data removed]",
      "text/plain": [
       "<Figure size 3000x1000 with 12 Axes>"
      ]
     },
     "metadata": {},
     "output_type": "display_data"
    }
   ],
   "source": [
    "%matplotlib inline\n",
    "    \n",
    "fig = plt.figure(figsize=(30,10))\n",
    "leadNames = ['I', 'II', 'III', 'AVR', 'AVL', 'AVF', 'V1', 'V2', 'V3', 'V4', 'V5', 'V6']\n",
    "print(['NORM', 'MI', 'STTC', 'HYP', 'CD'])\n",
    "s = 9\n",
    "fs = 500\n",
    "print(y_test[s])\n",
    "for i,lead in enumerate(leadNames):\n",
    "    x = x_test[s][i][0:5000]\n",
    "    ax1 = fig.add_subplot(3,4,i+1)\n",
    "    ax1.set_xlabel('Time [s]')\n",
    "    ax1.plot(x,\"b-\")\n",
    "    ax1.set_title(leadNames[i], fontsize=20)\n",
    "fig.tight_layout()"
   ]
  },
  {
   "cell_type": "code",
   "execution_count": 13,
   "id": "2c8d7b01-ba99-4f47-9edb-e4ad6ab88ade",
   "metadata": {},
   "outputs": [],
   "source": [
    "def get_DataLoader(x, y, batch, num_workers, shuffle=False):\n",
    "    x_tensor = torch.FloatTensor(x)\n",
    "    y_tensor = torch.FloatTensor(y)\n",
    "    dataset = TensorDataset(x_tensor, y_tensor)\n",
    "    dataloader = DataLoader(dataset, batch_size=batch, num_workers=num_workers, shuffle=shuffle)\n",
    "    return dataloader\n",
    "\n",
    "batch_size = 8\n",
    "num_workers = 2\n",
    "\n",
    "train_loader = get_DataLoader(x_train, y_train, batch=batch_size, num_workers=num_workers, shuffle=False)\n",
    "val_loader = get_DataLoader(x_valid, y_valid, batch=16, num_workers=num_workers, shuffle=False)\n",
    "test_loader = get_DataLoader(x_test, y_test, batch=16, num_workers=num_workers, shuffle=False)"
   ]
  },
  {
   "cell_type": "code",
   "execution_count": 14,
   "id": "a52283fb-f833-4915-bf36-174cd0355e2c",
   "metadata": {},
   "outputs": [],
   "source": [
    "# Evaluate\n",
    "from sklearn.metrics import multilabel_confusion_matrix, classification_report\n",
    "\n",
    "label_names = ['NORM', 'MI', 'STTC', 'HYP', 'CD']\n",
    "\n",
    "logits_list = []\n",
    "gt_list = []\n",
    "def Evaluate(model, test_loader):\n",
    "    global gt_list, logits_list\n",
    "    model.eval()\n",
    "    test_bar = tqdm(test_loader)\n",
    "    total = len(test_loader.dataset)\n",
    "    \n",
    "    for step, (x,y) in enumerate(test_bar):\n",
    "        x = x.to(device)\n",
    "        y = y.to(device)\n",
    "        with torch.no_grad():\n",
    "            logits = model(x).cpu().detach().numpy()\n",
    "            logits = logits > 0.5\n",
    "            logits = logits.astype(int)\n",
    "            for l in logits:\n",
    "                logits_list.append(l)\n",
    "            y = y.cpu().detach().numpy()\n",
    "            for gt in y:\n",
    "                gt_list.append(gt.astype(int))\n",
    "            \n",
    "    print(classification_report(gt_list, logits_list, target_names=label_names))"
   ]
  },
  {
   "cell_type": "code",
   "execution_count": 15,
   "id": "c2f72f0c-fe75-4f53-9174-2a6b946a5cb8",
   "metadata": {},
   "outputs": [],
   "source": [
    "# Fix Seed\n",
    "seed = 0\n",
    "deterministic = True\n",
    "random.seed(seed)\n",
    "np.random.seed(seed)\n",
    "torch.manual_seed(seed)\n",
    "torch.cuda.manual_seed_all(seed)\n",
    "if deterministic:\n",
    "    torch.backends.cudnn.deterministic = True\n",
    "    torch.backends.cudnn.benchmark = False"
   ]
  },
  {
   "cell_type": "code",
   "execution_count": 16,
   "id": "26be0455-c9bc-44d4-8d80-e0617a96cd6a",
   "metadata": {},
   "outputs": [],
   "source": [
    "class AsymmetricLoss(nn.Module):\n",
    "    # 4,1, 1e-8\n",
    "    def __init__(self, gamma_neg=3, gamma_pos=2, clip=0.05, eps=1e-5, disable_torch_grad_focal_loss=True):\n",
    "        super(AsymmetricLoss, self).__init__()\n",
    " \n",
    "        self.gamma_neg = gamma_neg\n",
    "        self.gamma_pos = gamma_pos\n",
    "        self.clip = clip\n",
    "        self.disable_torch_grad_focal_loss = disable_torch_grad_focal_loss\n",
    "        self.eps = eps\n",
    " \n",
    "    def forward(self, x, y):\n",
    "        \"\"\"\"\n",
    "        Parameters\n",
    "        ----------\n",
    "        x: input logits\n",
    "        y: targets (multi-label binarized vector)\n",
    "        \"\"\"\n",
    " \n",
    "        # Calculating Probabilities\n",
    "        x_sigmoid = torch.sigmoid(x)\n",
    "        xs_pos = x_sigmoid\n",
    "        xs_neg = 1 - x_sigmoid\n",
    " \n",
    "        # Asymmetric Clipping\n",
    "        if self.clip is not None and self.clip > 0:\n",
    "            xs_neg = (xs_neg + self.clip).clamp(max=1)\n",
    " \n",
    "        # Basic CE calculation\n",
    "        los_pos = y * torch.log(xs_pos.clamp(min=self.eps))\n",
    "        los_neg = (1 - y) * torch.log(xs_neg.clamp(min=self.eps))\n",
    "        loss = los_pos + los_neg\n",
    " \n",
    "        # Asymmetric Focusing\n",
    "        if self.gamma_neg > 0 or self.gamma_pos > 0:\n",
    "            if self.disable_torch_grad_focal_loss:\n",
    "                torch.set_grad_enabled(False)\n",
    "            pt0 = xs_pos * y\n",
    "            pt1 = xs_neg * (1 - y)  # pt = p if t > 0 else 1-p\n",
    "            pt = pt0 + pt1\n",
    "            one_sided_gamma = self.gamma_pos * y + self.gamma_neg * (1 - y)\n",
    "            one_sided_w = torch.pow(1 - pt, one_sided_gamma)\n",
    "            if self.disable_torch_grad_focal_loss:\n",
    "                torch.set_grad_enabled(True)\n",
    "            loss *= one_sided_w\n",
    " \n",
    "        return -loss.sum()"
   ]
  },
  {
   "cell_type": "code",
   "execution_count": 17,
   "id": "4d026577-f698-49e7-a75a-518a32ceff9c",
   "metadata": {
    "scrolled": true
   },
   "outputs": [
    {
     "name": "stdout",
     "output_type": "stream",
     "text": [
      "===============================================================================================\n",
      "======================= Batch 4 | Learning Rate 1e-05 | MIDX 0 =======================\n",
      "===============================================================================================\n"
     ]
    },
    {
     "name": "stderr",
     "output_type": "stream",
     "text": [
      "Train Epoch[1/50] loss: 1.783: 100%|███████████████████████████████| 3494/3494 [00:54<00:00, 64.18it/s]\n",
      "100%|████████████████████████████████████████████████████████████████| 219/219 [00:03<00:00, 61.50it/s]\n"
     ]
    },
    {
     "name": "stdout",
     "output_type": "stream",
     "text": [
      "Training loss : 1.891408085823059\n",
      "Validation loss : 6.5752036364655515\n",
      "Validation Loss Decrease.. Best Model, Best Loss update\n"
     ]
    },
    {
     "name": "stderr",
     "output_type": "stream",
     "text": [
      "Train Epoch[2/50] loss: 2.112: 100%|███████████████████████████████| 3494/3494 [00:54<00:00, 63.68it/s]\n",
      "100%|████████████████████████████████████████████████████████████████| 219/219 [00:03<00:00, 60.87it/s]\n"
     ]
    },
    {
     "name": "stdout",
     "output_type": "stream",
     "text": [
      "Training loss : 1.6452722549438477\n",
      "Validation loss : 5.894446660394538\n",
      "Validation Loss Decrease.. Best Model, Best Loss update\n"
     ]
    },
    {
     "name": "stderr",
     "output_type": "stream",
     "text": [
      "Train Epoch[3/50] loss: 1.749: 100%|███████████████████████████████| 3494/3494 [00:56<00:00, 61.34it/s]\n",
      "100%|████████████████████████████████████████████████████████████████| 219/219 [00:03<00:00, 60.24it/s]\n"
     ]
    },
    {
     "name": "stdout",
     "output_type": "stream",
     "text": [
      "Training loss : 1.5292143821716309\n",
      "Validation loss : 5.700585839410895\n",
      "Validation Loss Decrease.. Best Model, Best Loss update\n"
     ]
    },
    {
     "name": "stderr",
     "output_type": "stream",
     "text": [
      "Train Epoch[4/50] loss: 1.511: 100%|███████████████████████████████| 3494/3494 [00:57<00:00, 61.03it/s]\n",
      "100%|████████████████████████████████████████████████████████████████| 219/219 [00:03<00:00, 60.03it/s]\n"
     ]
    },
    {
     "name": "stdout",
     "output_type": "stream",
     "text": [
      "Training loss : 1.4542901515960693\n",
      "Validation loss : 5.537131012302556\n",
      "Validation Loss Decrease.. Best Model, Best Loss update\n"
     ]
    },
    {
     "name": "stderr",
     "output_type": "stream",
     "text": [
      "Train Epoch[5/50] loss: 1.581: 100%|███████████████████████████████| 3494/3494 [00:57<00:00, 60.33it/s]\n",
      "100%|████████████████████████████████████████████████████████████████| 219/219 [00:03<00:00, 59.73it/s]\n"
     ]
    },
    {
     "name": "stdout",
     "output_type": "stream",
     "text": [
      "Training loss : 1.3903688192367554\n",
      "Validation loss : 5.332465862030308\n",
      "Validation Loss Decrease.. Best Model, Best Loss update\n"
     ]
    },
    {
     "name": "stderr",
     "output_type": "stream",
     "text": [
      "Train Epoch[6/50] loss: 1.513: 100%|███████████████████████████████| 3494/3494 [00:57<00:00, 60.56it/s]\n",
      "100%|████████████████████████████████████████████████████████████████| 219/219 [00:03<00:00, 59.41it/s]\n"
     ]
    },
    {
     "name": "stdout",
     "output_type": "stream",
     "text": [
      "Training loss : 1.3251471519470215\n",
      "Validation loss : 5.129729644892967\n",
      "Validation Loss Decrease.. Best Model, Best Loss update\n"
     ]
    },
    {
     "name": "stderr",
     "output_type": "stream",
     "text": [
      "Train Epoch[7/50] loss: 1.901: 100%|███████████████████████████████| 3494/3494 [00:57<00:00, 60.41it/s]\n",
      "100%|████████████████████████████████████████████████████████████████| 219/219 [00:03<00:00, 59.48it/s]\n"
     ]
    },
    {
     "name": "stdout",
     "output_type": "stream",
     "text": [
      "Training loss : 1.2710660696029663\n",
      "Validation loss : 4.878020777549918\n",
      "Validation Loss Decrease.. Best Model, Best Loss update\n"
     ]
    },
    {
     "name": "stderr",
     "output_type": "stream",
     "text": [
      "Train Epoch[8/50] loss: 1.621: 100%|███████████████████████████████| 3494/3494 [00:58<00:00, 60.22it/s]\n",
      "100%|████████████████████████████████████████████████████████████████| 219/219 [00:03<00:00, 58.84it/s]\n"
     ]
    },
    {
     "name": "stdout",
     "output_type": "stream",
     "text": [
      "Training loss : 1.2330315113067627\n",
      "Validation loss : 4.793466569081834\n",
      "Validation Loss Decrease.. Best Model, Best Loss update\n"
     ]
    },
    {
     "name": "stderr",
     "output_type": "stream",
     "text": [
      "Train Epoch[9/50] loss: 1.307: 100%|███████████████████████████████| 3494/3494 [00:58<00:00, 59.99it/s]\n",
      "100%|████████████████████████████████████████████████████████████████| 219/219 [00:03<00:00, 59.23it/s]\n"
     ]
    },
    {
     "name": "stdout",
     "output_type": "stream",
     "text": [
      "Training loss : 1.1904830932617188\n",
      "Validation loss : 4.5710388329475435\n",
      "Validation Loss Decrease.. Best Model, Best Loss update\n"
     ]
    },
    {
     "name": "stderr",
     "output_type": "stream",
     "text": [
      "Train Epoch[10/50] loss: 1.433: 100%|██████████████████████████████| 3494/3494 [00:58<00:00, 60.01it/s]\n",
      "100%|████████████████████████████████████████████████████████████████| 219/219 [00:03<00:00, 58.96it/s]\n"
     ]
    },
    {
     "name": "stdout",
     "output_type": "stream",
     "text": [
      "Training loss : 1.1681208610534668\n",
      "Validation loss : 4.5339968879473265\n",
      "Validation Loss Decrease.. Best Model, Best Loss update\n"
     ]
    },
    {
     "name": "stderr",
     "output_type": "stream",
     "text": [
      "Train Epoch[11/50] loss: 1.123: 100%|██████████████████████████████| 3494/3494 [00:58<00:00, 59.95it/s]\n",
      "100%|████████████████████████████████████████████████████████████████| 219/219 [00:03<00:00, 59.16it/s]\n"
     ]
    },
    {
     "name": "stdout",
     "output_type": "stream",
     "text": [
      "Training loss : 1.1340222358703613\n",
      "Validation loss : 4.497403802392689\n",
      "Validation Loss Decrease.. Best Model, Best Loss update\n"
     ]
    },
    {
     "name": "stderr",
     "output_type": "stream",
     "text": [
      "Train Epoch[12/50] loss: 1.227: 100%|██████████████████████████████| 3494/3494 [00:58<00:00, 59.49it/s]\n",
      "100%|████████████████████████████████████████████████████████████████| 219/219 [00:03<00:00, 59.10it/s]\n"
     ]
    },
    {
     "name": "stdout",
     "output_type": "stream",
     "text": [
      "Training loss : 1.1187329292297363\n",
      "Validation loss : 4.464311268775975\n",
      "Validation Loss Decrease.. Best Model, Best Loss update\n"
     ]
    },
    {
     "name": "stderr",
     "output_type": "stream",
     "text": [
      "Train Epoch[13/50] loss: 1.157: 100%|██████████████████████████████| 3494/3494 [00:58<00:00, 59.78it/s]\n",
      "100%|████████████████████████████████████████████████████████████████| 219/219 [00:03<00:00, 58.78it/s]\n"
     ]
    },
    {
     "name": "stdout",
     "output_type": "stream",
     "text": [
      "Training loss : 1.103641152381897\n",
      "Validation loss : 4.381516717884638\n",
      "Validation Loss Decrease.. Best Model, Best Loss update\n"
     ]
    },
    {
     "name": "stderr",
     "output_type": "stream",
     "text": [
      "Train Epoch[14/50] loss: 1.452: 100%|██████████████████████████████| 3494/3494 [00:58<00:00, 59.71it/s]\n",
      "100%|████████████████████████████████████████████████████████████████| 219/219 [00:03<00:00, 58.83it/s]\n"
     ]
    },
    {
     "name": "stdout",
     "output_type": "stream",
     "text": [
      "Training loss : 1.0845810174942017\n",
      "Validation loss : 4.373477433914463\n",
      "Validation Loss Decrease.. Best Model, Best Loss update\n"
     ]
    },
    {
     "name": "stderr",
     "output_type": "stream",
     "text": [
      "Train Epoch[15/50] loss: 1.299: 100%|██████████████████████████████| 3494/3494 [00:58<00:00, 59.67it/s]\n",
      "100%|████████████████████████████████████████████████████████████████| 219/219 [00:03<00:00, 58.68it/s]\n"
     ]
    },
    {
     "name": "stdout",
     "output_type": "stream",
     "text": [
      "Training loss : 1.0727829933166504\n",
      "Validation loss : 4.379596394490978\n"
     ]
    },
    {
     "name": "stderr",
     "output_type": "stream",
     "text": [
      "Train Epoch[16/50] loss: 1.259: 100%|██████████████████████████████| 3494/3494 [00:58<00:00, 59.64it/s]\n",
      "100%|████████████████████████████████████████████████████████████████| 219/219 [00:03<00:00, 58.69it/s]\n"
     ]
    },
    {
     "name": "stdout",
     "output_type": "stream",
     "text": [
      "Training loss : 1.0583434104919434\n",
      "Validation loss : 4.330953105943933\n",
      "Validation Loss Decrease.. Best Model, Best Loss update\n"
     ]
    },
    {
     "name": "stderr",
     "output_type": "stream",
     "text": [
      "Train Epoch[17/50] loss: 1.303: 100%|██████████████████████████████| 3494/3494 [00:59<00:00, 59.17it/s]\n",
      "100%|████████████████████████████████████████████████████████████████| 219/219 [00:03<00:00, 58.62it/s]\n"
     ]
    },
    {
     "name": "stdout",
     "output_type": "stream",
     "text": [
      "Training loss : 1.0398943424224854\n",
      "Validation loss : 4.347308680347112\n"
     ]
    },
    {
     "name": "stderr",
     "output_type": "stream",
     "text": [
      "Train Epoch[18/50] loss: 1.224: 100%|██████████████████████████████| 3494/3494 [00:59<00:00, 59.12it/s]\n",
      "100%|████████████████████████████████████████████████████████████████| 219/219 [00:03<00:00, 58.68it/s]\n"
     ]
    },
    {
     "name": "stdout",
     "output_type": "stream",
     "text": [
      "Training loss : 1.031307578086853\n",
      "Validation loss : 4.290732718493841\n",
      "Validation Loss Decrease.. Best Model, Best Loss update\n"
     ]
    },
    {
     "name": "stderr",
     "output_type": "stream",
     "text": [
      "Train Epoch[19/50] loss: 1.501: 100%|██████████████████████████████| 3494/3494 [00:58<00:00, 59.46it/s]\n",
      "100%|████████████████████████████████████████████████████████████████| 219/219 [00:03<00:00, 58.57it/s]\n"
     ]
    },
    {
     "name": "stdout",
     "output_type": "stream",
     "text": [
      "Training loss : 1.0137102603912354\n",
      "Validation loss : 4.321416336107472\n"
     ]
    },
    {
     "name": "stderr",
     "output_type": "stream",
     "text": [
      "Train Epoch[20/50] loss: 1.086: 100%|██████████████████████████████| 3494/3494 [00:59<00:00, 59.04it/s]\n",
      "100%|████████████████████████████████████████████████████████████████| 219/219 [00:03<00:00, 58.52it/s]\n"
     ]
    },
    {
     "name": "stdout",
     "output_type": "stream",
     "text": [
      "Training loss : 1.003533959388733\n",
      "Validation loss : 4.323596758385227\n"
     ]
    },
    {
     "name": "stderr",
     "output_type": "stream",
     "text": [
      "Train Epoch[21/50] loss: 1.640: 100%|██████████████████████████████| 3494/3494 [00:58<00:00, 59.39it/s]\n",
      "100%|████████████████████████████████████████████████████████████████| 219/219 [00:03<00:00, 58.35it/s]\n"
     ]
    },
    {
     "name": "stdout",
     "output_type": "stream",
     "text": [
      "Training loss : 0.9892482757568359\n",
      "Validation loss : 4.303819164293542\n"
     ]
    },
    {
     "name": "stderr",
     "output_type": "stream",
     "text": [
      "Train Epoch[22/50] loss: 1.360: 100%|██████████████████████████████| 3494/3494 [01:06<00:00, 52.94it/s]\n",
      "100%|████████████████████████████████████████████████████████████████| 219/219 [00:03<00:00, 56.42it/s]\n"
     ]
    },
    {
     "name": "stdout",
     "output_type": "stream",
     "text": [
      "Training loss : 0.9773969054222107\n",
      "Validation loss : 4.339279835082625\n"
     ]
    },
    {
     "name": "stderr",
     "output_type": "stream",
     "text": [
      "Train Epoch[23/50] loss: 1.219: 100%|██████████████████████████████| 3494/3494 [00:57<00:00, 60.56it/s]\n",
      "100%|████████████████████████████████████████████████████████████████| 219/219 [00:03<00:00, 58.62it/s]\n"
     ]
    },
    {
     "name": "stdout",
     "output_type": "stream",
     "text": [
      "Training loss : 0.9603484869003296\n",
      "Validation loss : 4.313952123193436\n"
     ]
    },
    {
     "name": "stderr",
     "output_type": "stream",
     "text": [
      "Train Epoch[24/50] loss: 1.503: 100%|██████████████████████████████| 3494/3494 [00:58<00:00, 59.48it/s]\n",
      "100%|████████████████████████████████████████████████████████████████| 219/219 [00:03<00:00, 58.64it/s]\n"
     ]
    },
    {
     "name": "stdout",
     "output_type": "stream",
     "text": [
      "Training loss : 0.9536758661270142\n",
      "Validation loss : 4.284556751926195\n",
      "Validation Loss Decrease.. Best Model, Best Loss update\n"
     ]
    },
    {
     "name": "stderr",
     "output_type": "stream",
     "text": [
      "Train Epoch[25/50] loss: 0.955: 100%|██████████████████████████████| 3494/3494 [00:58<00:00, 59.40it/s]\n",
      "100%|████████████████████████████████████████████████████████████████| 219/219 [00:03<00:00, 58.40it/s]\n"
     ]
    },
    {
     "name": "stdout",
     "output_type": "stream",
     "text": [
      "Training loss : 0.9373601078987122\n",
      "Validation loss : 4.265192330155743\n",
      "Validation Loss Decrease.. Best Model, Best Loss update\n"
     ]
    },
    {
     "name": "stderr",
     "output_type": "stream",
     "text": [
      "Train Epoch[26/50] loss: 1.303: 100%|██████████████████████████████| 3494/3494 [01:00<00:00, 58.06it/s]\n",
      "100%|████████████████████████████████████████████████████████████████| 219/219 [00:04<00:00, 49.13it/s]\n"
     ]
    },
    {
     "name": "stdout",
     "output_type": "stream",
     "text": [
      "Training loss : 0.9239360094070435\n",
      "Validation loss : 4.374323317449387\n"
     ]
    },
    {
     "name": "stderr",
     "output_type": "stream",
     "text": [
      "Train Epoch[27/50] loss: 1.189: 100%|██████████████████████████████| 3494/3494 [00:58<00:00, 59.50it/s]\n",
      "100%|████████████████████████████████████████████████████████████████| 219/219 [00:03<00:00, 58.58it/s]\n"
     ]
    },
    {
     "name": "stdout",
     "output_type": "stream",
     "text": [
      "Training loss : 0.9104306101799011\n",
      "Validation loss : 4.290576226090732\n"
     ]
    },
    {
     "name": "stderr",
     "output_type": "stream",
     "text": [
      "Train Epoch[28/50] loss: 1.364: 100%|██████████████████████████████| 3494/3494 [00:58<00:00, 59.34it/s]\n",
      "100%|████████████████████████████████████████████████████████████████| 219/219 [00:03<00:00, 58.35it/s]\n"
     ]
    },
    {
     "name": "stdout",
     "output_type": "stream",
     "text": [
      "Training loss : 0.8912808299064636\n",
      "Validation loss : 4.3174117574953055\n"
     ]
    },
    {
     "name": "stderr",
     "output_type": "stream",
     "text": [
      "Train Epoch[29/50] loss: 1.147: 100%|██████████████████████████████| 3494/3494 [00:59<00:00, 58.99it/s]\n",
      "100%|████████████████████████████████████████████████████████████████| 219/219 [00:03<00:00, 58.48it/s]\n"
     ]
    },
    {
     "name": "stdout",
     "output_type": "stream",
     "text": [
      "Training loss : 0.876876711845398\n",
      "Validation loss : 4.4547163607323\n"
     ]
    },
    {
     "name": "stderr",
     "output_type": "stream",
     "text": [
      "Train Epoch[30/50] loss: 1.170: 100%|██████████████████████████████| 3494/3494 [01:00<00:00, 58.05it/s]\n",
      "100%|████████████████████████████████████████████████████████████████| 219/219 [00:04<00:00, 54.16it/s]\n"
     ]
    },
    {
     "name": "stdout",
     "output_type": "stream",
     "text": [
      "Training loss : 0.8778308629989624\n",
      "Validation loss : 4.354787898390261\n"
     ]
    },
    {
     "name": "stderr",
     "output_type": "stream",
     "text": [
      "Train Epoch[31/50] loss: 1.214: 100%|██████████████████████████████| 3494/3494 [00:58<00:00, 59.70it/s]\n",
      "100%|████████████████████████████████████████████████████████████████| 219/219 [00:03<00:00, 58.66it/s]\n"
     ]
    },
    {
     "name": "stdout",
     "output_type": "stream",
     "text": [
      "Training loss : 0.8572049736976624\n",
      "Validation loss : 4.472200124775438\n"
     ]
    },
    {
     "name": "stderr",
     "output_type": "stream",
     "text": [
      "Train Epoch[32/50] loss: 1.023: 100%|██████████████████████████████| 3494/3494 [00:59<00:00, 59.14it/s]\n",
      "100%|████████████████████████████████████████████████████████████████| 219/219 [00:03<00:00, 58.02it/s]\n"
     ]
    },
    {
     "name": "stdout",
     "output_type": "stream",
     "text": [
      "Training loss : 0.8450895547866821\n",
      "Validation loss : 4.532121820536923\n"
     ]
    },
    {
     "name": "stderr",
     "output_type": "stream",
     "text": [
      "Train Epoch[33/50] loss: 1.473: 100%|██████████████████████████████| 3494/3494 [01:00<00:00, 58.03it/s]\n",
      "100%|████████████████████████████████████████████████████████████████| 219/219 [00:04<00:00, 51.47it/s]\n"
     ]
    },
    {
     "name": "stdout",
     "output_type": "stream",
     "text": [
      "Training loss : 0.8369562029838562\n",
      "Validation loss : 4.5077320359068915\n"
     ]
    },
    {
     "name": "stderr",
     "output_type": "stream",
     "text": [
      "Train Epoch[34/50] loss: 1.202: 100%|██████████████████████████████| 3494/3494 [00:58<00:00, 59.45it/s]\n",
      "100%|████████████████████████████████████████████████████████████████| 219/219 [00:03<00:00, 55.56it/s]\n"
     ]
    },
    {
     "name": "stdout",
     "output_type": "stream",
     "text": [
      "Training loss : 0.823806881904602\n",
      "Validation loss : 4.493325337971727\n"
     ]
    },
    {
     "name": "stderr",
     "output_type": "stream",
     "text": [
      "Train Epoch[35/50] loss: 1.155: 100%|██████████████████████████████| 3494/3494 [00:58<00:00, 59.42it/s]\n",
      "100%|████████████████████████████████████████████████████████████████| 219/219 [00:03<00:00, 57.17it/s]\n"
     ]
    },
    {
     "name": "stdout",
     "output_type": "stream",
     "text": [
      "Training loss : 0.8048896789550781\n",
      "Validation loss : 4.66661268118854\n"
     ]
    },
    {
     "name": "stderr",
     "output_type": "stream",
     "text": [
      "Train Epoch[36/50] loss: 1.037: 100%|██████████████████████████████| 3494/3494 [00:59<00:00, 59.21it/s]\n",
      "100%|████████████████████████████████████████████████████████████████| 219/219 [00:03<00:00, 58.41it/s]\n"
     ]
    },
    {
     "name": "stdout",
     "output_type": "stream",
     "text": [
      "Training loss : 0.7978872656822205\n",
      "Validation loss : 4.637945919276373\n"
     ]
    },
    {
     "name": "stderr",
     "output_type": "stream",
     "text": [
      "Train Epoch[37/50] loss: 0.886: 100%|██████████████████████████████| 3494/3494 [00:59<00:00, 58.36it/s]\n",
      "100%|████████████████████████████████████████████████████████████████| 219/219 [00:04<00:00, 52.23it/s]\n"
     ]
    },
    {
     "name": "stdout",
     "output_type": "stream",
     "text": [
      "Training loss : 0.7789157629013062\n",
      "Validation loss : 4.666454210673293\n"
     ]
    },
    {
     "name": "stderr",
     "output_type": "stream",
     "text": [
      "Train Epoch[38/50] loss: 1.067: 100%|██████████████████████████████| 3494/3494 [00:59<00:00, 59.17it/s]\n",
      "100%|████████████████████████████████████████████████████████████████| 219/219 [00:03<00:00, 55.13it/s]\n"
     ]
    },
    {
     "name": "stdout",
     "output_type": "stream",
     "text": [
      "Training loss : 0.7752312421798706\n",
      "Validation loss : 4.877124305729453\n"
     ]
    },
    {
     "name": "stderr",
     "output_type": "stream",
     "text": [
      "Train Epoch[39/50] loss: 0.793: 100%|██████████████████████████████| 3494/3494 [00:59<00:00, 58.77it/s]\n",
      "100%|████████████████████████████████████████████████████████████████| 219/219 [00:04<00:00, 53.07it/s]\n"
     ]
    },
    {
     "name": "stdout",
     "output_type": "stream",
     "text": [
      "Training loss : 0.7597060203552246\n",
      "Validation loss : 4.920014856612846\n"
     ]
    },
    {
     "name": "stderr",
     "output_type": "stream",
     "text": [
      "Train Epoch[40/50] loss: 1.110: 100%|██████████████████████████████| 3494/3494 [00:58<00:00, 59.27it/s]\n",
      "100%|████████████████████████████████████████████████████████████████| 219/219 [00:03<00:00, 55.34it/s]\n"
     ]
    },
    {
     "name": "stdout",
     "output_type": "stream",
     "text": [
      "Training loss : 0.7460062503814697\n",
      "Validation loss : 5.001726803169947\n"
     ]
    },
    {
     "name": "stderr",
     "output_type": "stream",
     "text": [
      "Train Epoch[41/50] loss: 0.916: 100%|██████████████████████████████| 3494/3494 [00:58<00:00, 59.26it/s]\n",
      "100%|████████████████████████████████████████████████████████████████| 219/219 [00:03<00:00, 57.03it/s]\n"
     ]
    },
    {
     "name": "stdout",
     "output_type": "stream",
     "text": [
      "Training loss : 0.7345439195632935\n",
      "Validation loss : 5.074868312165073\n"
     ]
    },
    {
     "name": "stderr",
     "output_type": "stream",
     "text": [
      "Train Epoch[42/50] loss: 0.670: 100%|██████████████████████████████| 3494/3494 [00:59<00:00, 58.58it/s]\n",
      "100%|████████████████████████████████████████████████████████████████| 219/219 [00:04<00:00, 54.54it/s]\n"
     ]
    },
    {
     "name": "stdout",
     "output_type": "stream",
     "text": [
      "Training loss : 0.715697169303894\n",
      "Validation loss : 5.113059927339423\n"
     ]
    },
    {
     "name": "stderr",
     "output_type": "stream",
     "text": [
      "Train Epoch[43/50] loss: 1.006: 100%|██████████████████████████████| 3494/3494 [00:59<00:00, 58.58it/s]\n",
      "100%|████████████████████████████████████████████████████████████████| 219/219 [00:04<00:00, 49.89it/s]\n"
     ]
    },
    {
     "name": "stdout",
     "output_type": "stream",
     "text": [
      "Training loss : 0.7113752961158752\n",
      "Validation loss : 5.1756410070750265\n"
     ]
    },
    {
     "name": "stderr",
     "output_type": "stream",
     "text": [
      "Train Epoch[44/50] loss: 0.847: 100%|██████████████████████████████| 3494/3494 [00:58<00:00, 59.35it/s]\n",
      "100%|████████████████████████████████████████████████████████████████| 219/219 [00:03<00:00, 58.51it/s]\n"
     ]
    },
    {
     "name": "stdout",
     "output_type": "stream",
     "text": [
      "Training loss : 0.7048174142837524\n",
      "Validation loss : 5.246032282642034\n"
     ]
    },
    {
     "name": "stderr",
     "output_type": "stream",
     "text": [
      "Train Epoch[45/50] loss: 0.571: 100%|██████████████████████████████| 3494/3494 [00:59<00:00, 58.43it/s]\n",
      "100%|████████████████████████████████████████████████████████████████| 219/219 [00:03<00:00, 58.01it/s]\n"
     ]
    },
    {
     "name": "stdout",
     "output_type": "stream",
     "text": [
      "Training loss : 0.6964380145072937\n",
      "Validation loss : 5.467894191066969\n"
     ]
    },
    {
     "name": "stderr",
     "output_type": "stream",
     "text": [
      "Train Epoch[46/50] loss: 0.751: 100%|██████████████████████████████| 3494/3494 [01:01<00:00, 56.84it/s]\n",
      "100%|████████████████████████████████████████████████████████████████| 219/219 [00:04<00:00, 48.88it/s]\n"
     ]
    },
    {
     "name": "stdout",
     "output_type": "stream",
     "text": [
      "Training loss : 0.6803956031799316\n",
      "Validation loss : 5.553193747725117\n"
     ]
    },
    {
     "name": "stderr",
     "output_type": "stream",
     "text": [
      "Train Epoch[47/50] loss: 1.079: 100%|██████████████████████████████| 3494/3494 [00:58<00:00, 59.75it/s]\n",
      "100%|████████████████████████████████████████████████████████████████| 219/219 [00:03<00:00, 58.60it/s]\n"
     ]
    },
    {
     "name": "stdout",
     "output_type": "stream",
     "text": [
      "Training loss : 0.6674132943153381\n",
      "Validation loss : 5.417863907335011\n"
     ]
    },
    {
     "name": "stderr",
     "output_type": "stream",
     "text": [
      "Train Epoch[48/50] loss: 0.341: 100%|██████████████████████████████| 3494/3494 [00:59<00:00, 58.56it/s]\n",
      "100%|████████████████████████████████████████████████████████████████| 219/219 [00:03<00:00, 58.46it/s]\n"
     ]
    },
    {
     "name": "stdout",
     "output_type": "stream",
     "text": [
      "Training loss : 0.6683390140533447\n",
      "Validation loss : 5.908130256552674\n"
     ]
    },
    {
     "name": "stderr",
     "output_type": "stream",
     "text": [
      "Train Epoch[49/50] loss: 0.704: 100%|██████████████████████████████| 3494/3494 [00:59<00:00, 58.52it/s]\n",
      "100%|████████████████████████████████████████████████████████████████| 219/219 [00:04<00:00, 50.22it/s]\n"
     ]
    },
    {
     "name": "stdout",
     "output_type": "stream",
     "text": [
      "Training loss : 0.6500241756439209\n",
      "Validation loss : 6.451136268437181\n"
     ]
    },
    {
     "name": "stderr",
     "output_type": "stream",
     "text": [
      "Train Epoch[50/50] loss: 0.776: 100%|██████████████████████████████| 3494/3494 [00:59<00:00, 58.61it/s]\n",
      "100%|████████████████████████████████████████████████████████████████| 219/219 [00:04<00:00, 53.72it/s]\n"
     ]
    },
    {
     "name": "stdout",
     "output_type": "stream",
     "text": [
      "Training loss : 0.6392146348953247\n",
      "Validation loss : 5.9766785412618555\n",
      "===============================================================================================\n",
      "======================= Batch 4 | Learning Rate 5e-05 | MIDX 1 =======================\n",
      "===============================================================================================\n"
     ]
    },
    {
     "name": "stderr",
     "output_type": "stream",
     "text": [
      "Train Epoch[1/50] loss: 1.959: 100%|███████████████████████████████| 3494/3494 [00:59<00:00, 59.11it/s]\n",
      "100%|████████████████████████████████████████████████████████████████| 219/219 [00:03<00:00, 58.34it/s]\n"
     ]
    },
    {
     "name": "stdout",
     "output_type": "stream",
     "text": [
      "Training loss : 1.7596265077590942\n",
      "Validation loss : 5.939285729029407\n"
     ]
    },
    {
     "name": "stderr",
     "output_type": "stream",
     "text": [
      "Train Epoch[2/50] loss: 1.572: 100%|███████████████████████████████| 3494/3494 [00:59<00:00, 58.75it/s]\n",
      "100%|████████████████████████████████████████████████████████████████| 219/219 [00:04<00:00, 54.28it/s]\n"
     ]
    },
    {
     "name": "stdout",
     "output_type": "stream",
     "text": [
      "Training loss : 1.422822117805481\n",
      "Validation loss : 5.218563028122192\n"
     ]
    },
    {
     "name": "stderr",
     "output_type": "stream",
     "text": [
      "Train Epoch[3/50] loss: 1.236: 100%|███████████████████████████████| 3494/3494 [00:59<00:00, 58.98it/s]\n",
      "100%|████████████████████████████████████████████████████████████████| 219/219 [00:03<00:00, 55.24it/s]\n"
     ]
    },
    {
     "name": "stdout",
     "output_type": "stream",
     "text": [
      "Training loss : 1.2808648347854614\n",
      "Validation loss : 4.846764006026803\n"
     ]
    },
    {
     "name": "stderr",
     "output_type": "stream",
     "text": [
      "Train Epoch[4/50] loss: 1.284: 100%|███████████████████████████████| 3494/3494 [00:59<00:00, 58.85it/s]\n",
      "100%|████████████████████████████████████████████████████████████████| 219/219 [00:04<00:00, 52.90it/s]\n"
     ]
    },
    {
     "name": "stdout",
     "output_type": "stream",
     "text": [
      "Training loss : 1.2006548643112183\n",
      "Validation loss : 4.627958550845107\n"
     ]
    },
    {
     "name": "stderr",
     "output_type": "stream",
     "text": [
      "Train Epoch[5/50] loss: 1.097: 100%|███████████████████████████████| 3494/3494 [00:59<00:00, 58.84it/s]\n",
      "100%|████████████████████████████████████████████████████████████████| 219/219 [00:04<00:00, 53.32it/s]\n"
     ]
    },
    {
     "name": "stdout",
     "output_type": "stream",
     "text": [
      "Training loss : 1.1527140140533447\n",
      "Validation loss : 4.643943608079327\n"
     ]
    },
    {
     "name": "stderr",
     "output_type": "stream",
     "text": [
      "Train Epoch[6/50] loss: 1.120: 100%|███████████████████████████████| 3494/3494 [00:59<00:00, 58.83it/s]\n",
      "100%|████████████████████████████████████████████████████████████████| 219/219 [00:04<00:00, 54.75it/s]\n"
     ]
    },
    {
     "name": "stdout",
     "output_type": "stream",
     "text": [
      "Training loss : 1.1190699338912964\n",
      "Validation loss : 4.544275274015453\n"
     ]
    },
    {
     "name": "stderr",
     "output_type": "stream",
     "text": [
      "Train Epoch[7/50] loss: 1.108: 100%|███████████████████████████████| 3494/3494 [00:59<00:00, 58.96it/s]\n",
      "100%|████████████████████████████████████████████████████████████████| 219/219 [00:03<00:00, 56.12it/s]\n"
     ]
    },
    {
     "name": "stdout",
     "output_type": "stream",
     "text": [
      "Training loss : 1.0906492471694946\n",
      "Validation loss : 4.439555107730708\n"
     ]
    },
    {
     "name": "stderr",
     "output_type": "stream",
     "text": [
      "Train Epoch[8/50] loss: 0.999: 100%|███████████████████████████████| 3494/3494 [00:59<00:00, 58.48it/s]\n",
      "100%|████████████████████████████████████████████████████████████████| 219/219 [00:04<00:00, 47.62it/s]\n"
     ]
    },
    {
     "name": "stdout",
     "output_type": "stream",
     "text": [
      "Training loss : 1.0706517696380615\n",
      "Validation loss : 4.475694449524902\n"
     ]
    },
    {
     "name": "stderr",
     "output_type": "stream",
     "text": [
      "Train Epoch[9/50] loss: 0.979: 100%|███████████████████████████████| 3494/3494 [00:59<00:00, 58.87it/s]\n",
      "100%|████████████████████████████████████████████████████████████████| 219/219 [00:03<00:00, 58.40it/s]\n"
     ]
    },
    {
     "name": "stdout",
     "output_type": "stream",
     "text": [
      "Training loss : 1.0400716066360474\n",
      "Validation loss : 4.279950627453251\n"
     ]
    },
    {
     "name": "stderr",
     "output_type": "stream",
     "text": [
      "Train Epoch[10/50] loss: 0.917: 100%|██████████████████████████████| 3494/3494 [00:59<00:00, 58.29it/s]\n",
      "100%|████████████████████████████████████████████████████████████████| 219/219 [00:04<00:00, 51.90it/s]\n"
     ]
    },
    {
     "name": "stdout",
     "output_type": "stream",
     "text": [
      "Training loss : 1.024053931236267\n",
      "Validation loss : 4.212245004362167\n",
      "Validation Loss Decrease.. Best Model, Best Loss update\n"
     ]
    },
    {
     "name": "stderr",
     "output_type": "stream",
     "text": [
      "Train Epoch[11/50] loss: 1.346: 100%|██████████████████████████████| 3494/3494 [00:59<00:00, 59.01it/s]\n",
      "100%|████████████████████████████████████████████████████████████████| 219/219 [00:03<00:00, 56.31it/s]\n"
     ]
    },
    {
     "name": "stdout",
     "output_type": "stream",
     "text": [
      "Training loss : 1.0055267810821533\n",
      "Validation loss : 4.251666201304083\n"
     ]
    },
    {
     "name": "stderr",
     "output_type": "stream",
     "text": [
      "Train Epoch[12/50] loss: 1.118: 100%|██████████████████████████████| 3494/3494 [00:59<00:00, 58.73it/s]\n",
      "100%|████████████████████████████████████████████████████████████████| 219/219 [00:04<00:00, 53.38it/s]\n"
     ]
    },
    {
     "name": "stdout",
     "output_type": "stream",
     "text": [
      "Training loss : 0.9928871989250183\n",
      "Validation loss : 4.264919958702506\n"
     ]
    },
    {
     "name": "stderr",
     "output_type": "stream",
     "text": [
      "Train Epoch[13/50] loss: 0.996: 100%|██████████████████████████████| 3494/3494 [00:59<00:00, 58.90it/s]\n",
      "100%|████████████████████████████████████████████████████████████████| 219/219 [00:03<00:00, 56.13it/s]\n"
     ]
    },
    {
     "name": "stdout",
     "output_type": "stream",
     "text": [
      "Training loss : 0.9743940234184265\n",
      "Validation loss : 4.274253405392442\n"
     ]
    },
    {
     "name": "stderr",
     "output_type": "stream",
     "text": [
      "Train Epoch[14/50] loss: 0.815: 100%|██████████████████████████████| 3494/3494 [00:59<00:00, 58.46it/s]\n",
      "100%|████████████████████████████████████████████████████████████████| 219/219 [00:04<00:00, 53.16it/s]\n"
     ]
    },
    {
     "name": "stdout",
     "output_type": "stream",
     "text": [
      "Training loss : 0.9575909376144409\n",
      "Validation loss : 4.19955062757344\n",
      "Validation Loss Decrease.. Best Model, Best Loss update\n"
     ]
    },
    {
     "name": "stderr",
     "output_type": "stream",
     "text": [
      "Train Epoch[15/50] loss: 1.160: 100%|██████████████████████████████| 3494/3494 [00:59<00:00, 58.95it/s]\n",
      "100%|████████████████████████████████████████████████████████████████| 219/219 [00:03<00:00, 55.89it/s]\n"
     ]
    },
    {
     "name": "stdout",
     "output_type": "stream",
     "text": [
      "Training loss : 0.9417755603790283\n",
      "Validation loss : 4.321370707799311\n"
     ]
    },
    {
     "name": "stderr",
     "output_type": "stream",
     "text": [
      "Train Epoch[16/50] loss: 0.863: 100%|██████████████████████████████| 3494/3494 [00:59<00:00, 58.82it/s]\n",
      "100%|████████████████████████████████████████████████████████████████| 219/219 [00:04<00:00, 51.48it/s]\n"
     ]
    },
    {
     "name": "stdout",
     "output_type": "stream",
     "text": [
      "Training loss : 0.9343164563179016\n",
      "Validation loss : 4.285818768418543\n"
     ]
    },
    {
     "name": "stderr",
     "output_type": "stream",
     "text": [
      "Train Epoch[17/50] loss: 0.906: 100%|██████████████████████████████| 3494/3494 [00:59<00:00, 58.80it/s]\n",
      "100%|████████████████████████████████████████████████████████████████| 219/219 [00:03<00:00, 57.31it/s]\n"
     ]
    },
    {
     "name": "stdout",
     "output_type": "stream",
     "text": [
      "Training loss : 0.9156764149665833\n",
      "Validation loss : 4.313913354046268\n"
     ]
    },
    {
     "name": "stderr",
     "output_type": "stream",
     "text": [
      "Train Epoch[18/50] loss: 0.858: 100%|██████████████████████████████| 3494/3494 [01:00<00:00, 58.05it/s]\n",
      "100%|████████████████████████████████████████████████████████████████| 219/219 [00:04<00:00, 52.92it/s]\n"
     ]
    },
    {
     "name": "stdout",
     "output_type": "stream",
     "text": [
      "Training loss : 0.9102146625518799\n",
      "Validation loss : 4.202071588333339\n"
     ]
    },
    {
     "name": "stderr",
     "output_type": "stream",
     "text": [
      "Train Epoch[19/50] loss: 0.972: 100%|██████████████████████████████| 3494/3494 [00:59<00:00, 58.45it/s]\n",
      "100%|████████████████████████████████████████████████████████████████| 219/219 [00:04<00:00, 53.09it/s]\n"
     ]
    },
    {
     "name": "stdout",
     "output_type": "stream",
     "text": [
      "Training loss : 0.8944043517112732\n",
      "Validation loss : 4.511090701029181\n"
     ]
    },
    {
     "name": "stderr",
     "output_type": "stream",
     "text": [
      "Train Epoch[20/50] loss: 0.782: 100%|██████████████████████████████| 3494/3494 [00:59<00:00, 58.75it/s]\n",
      "100%|████████████████████████████████████████████████████████████████| 219/219 [00:03<00:00, 55.36it/s]\n"
     ]
    },
    {
     "name": "stdout",
     "output_type": "stream",
     "text": [
      "Training loss : 0.885758638381958\n",
      "Validation loss : 4.534608306950086\n"
     ]
    },
    {
     "name": "stderr",
     "output_type": "stream",
     "text": [
      "Train Epoch[21/50] loss: 1.167: 100%|██████████████████████████████| 3494/3494 [00:59<00:00, 58.56it/s]\n",
      "100%|████████████████████████████████████████████████████████████████| 219/219 [00:04<00:00, 52.21it/s]\n"
     ]
    },
    {
     "name": "stdout",
     "output_type": "stream",
     "text": [
      "Training loss : 0.8745936155319214\n",
      "Validation loss : 4.512773093567591\n"
     ]
    },
    {
     "name": "stderr",
     "output_type": "stream",
     "text": [
      "Train Epoch[22/50] loss: 0.691: 100%|██████████████████████████████| 3494/3494 [00:59<00:00, 58.86it/s]\n",
      "100%|████████████████████████████████████████████████████████████████| 219/219 [00:03<00:00, 55.57it/s]\n"
     ]
    },
    {
     "name": "stdout",
     "output_type": "stream",
     "text": [
      "Training loss : 0.8690258860588074\n",
      "Validation loss : 4.490179176199926\n"
     ]
    },
    {
     "name": "stderr",
     "output_type": "stream",
     "text": [
      "Train Epoch[23/50] loss: 0.861: 100%|██████████████████████████████| 3494/3494 [00:59<00:00, 58.25it/s]\n",
      "100%|████████████████████████████████████████████████████████████████| 219/219 [00:04<00:00, 49.35it/s]\n"
     ]
    },
    {
     "name": "stdout",
     "output_type": "stream",
     "text": [
      "Training loss : 0.8513510227203369\n",
      "Validation loss : 4.386587191934455\n"
     ]
    },
    {
     "name": "stderr",
     "output_type": "stream",
     "text": [
      "Train Epoch[24/50] loss: 0.712: 100%|██████████████████████████████| 3494/3494 [00:59<00:00, 58.53it/s]\n",
      "100%|████████████████████████████████████████████████████████████████| 219/219 [00:04<00:00, 50.25it/s]\n"
     ]
    },
    {
     "name": "stdout",
     "output_type": "stream",
     "text": [
      "Training loss : 0.8506916165351868\n",
      "Validation loss : 4.654764242368202\n"
     ]
    },
    {
     "name": "stderr",
     "output_type": "stream",
     "text": [
      "Train Epoch[25/50] loss: 0.871: 100%|██████████████████████████████| 3494/3494 [01:01<00:00, 57.22it/s]\n",
      "100%|████████████████████████████████████████████████████████████████| 219/219 [00:04<00:00, 48.37it/s]\n"
     ]
    },
    {
     "name": "stdout",
     "output_type": "stream",
     "text": [
      "Training loss : 0.833682119846344\n",
      "Validation loss : 4.374481134763047\n"
     ]
    },
    {
     "name": "stderr",
     "output_type": "stream",
     "text": [
      "Train Epoch[26/50] loss: 1.067: 100%|██████████████████████████████| 3494/3494 [00:59<00:00, 59.08it/s]\n",
      "100%|████████████████████████████████████████████████████████████████| 219/219 [00:03<00:00, 58.28it/s]\n"
     ]
    },
    {
     "name": "stdout",
     "output_type": "stream",
     "text": [
      "Training loss : 0.8344711661338806\n",
      "Validation loss : 4.478899244848452\n"
     ]
    },
    {
     "name": "stderr",
     "output_type": "stream",
     "text": [
      "Train Epoch[27/50] loss: 0.917: 100%|██████████████████████████████| 3494/3494 [01:00<00:00, 58.02it/s]\n",
      "100%|████████████████████████████████████████████████████████████████| 219/219 [00:04<00:00, 46.58it/s]\n"
     ]
    },
    {
     "name": "stdout",
     "output_type": "stream",
     "text": [
      "Training loss : 0.8211380839347839\n",
      "Validation loss : 4.532870566463906\n"
     ]
    },
    {
     "name": "stderr",
     "output_type": "stream",
     "text": [
      "Train Epoch[28/50] loss: 0.984: 100%|██████████████████████████████| 3494/3494 [01:00<00:00, 58.01it/s]\n",
      "100%|████████████████████████████████████████████████████████████████| 219/219 [00:04<00:00, 52.37it/s]\n"
     ]
    },
    {
     "name": "stdout",
     "output_type": "stream",
     "text": [
      "Training loss : 0.8112926483154297\n",
      "Validation loss : 4.913091376491877\n"
     ]
    },
    {
     "name": "stderr",
     "output_type": "stream",
     "text": [
      "Train Epoch[29/50] loss: 1.122: 100%|██████████████████████████████| 3494/3494 [00:59<00:00, 59.07it/s]\n",
      "100%|████████████████████████████████████████████████████████████████| 219/219 [00:03<00:00, 55.35it/s]\n"
     ]
    },
    {
     "name": "stdout",
     "output_type": "stream",
     "text": [
      "Training loss : 0.8050038814544678\n",
      "Validation loss : 4.783638861625707\n"
     ]
    },
    {
     "name": "stderr",
     "output_type": "stream",
     "text": [
      "Train Epoch[30/50] loss: 0.959: 100%|██████████████████████████████| 3494/3494 [00:59<00:00, 58.75it/s]\n",
      "100%|████████████████████████████████████████████████████████████████| 219/219 [00:03<00:00, 56.96it/s]\n"
     ]
    },
    {
     "name": "stdout",
     "output_type": "stream",
     "text": [
      "Training loss : 0.7943907976150513\n",
      "Validation loss : 4.677725988980297\n"
     ]
    },
    {
     "name": "stderr",
     "output_type": "stream",
     "text": [
      "Train Epoch[31/50] loss: 0.880: 100%|██████████████████████████████| 3494/3494 [01:01<00:00, 57.14it/s]\n",
      "100%|████████████████████████████████████████████████████████████████| 219/219 [00:04<00:00, 45.34it/s]\n"
     ]
    },
    {
     "name": "stdout",
     "output_type": "stream",
     "text": [
      "Training loss : 0.787240743637085\n",
      "Validation loss : 4.86418717092575\n"
     ]
    },
    {
     "name": "stderr",
     "output_type": "stream",
     "text": [
      "Train Epoch[32/50] loss: 0.653: 100%|██████████████████████████████| 3494/3494 [00:59<00:00, 58.72it/s]\n",
      "100%|████████████████████████████████████████████████████████████████| 219/219 [00:03<00:00, 58.16it/s]\n"
     ]
    },
    {
     "name": "stdout",
     "output_type": "stream",
     "text": [
      "Training loss : 0.7910708785057068\n",
      "Validation loss : 4.630732182498392\n"
     ]
    },
    {
     "name": "stderr",
     "output_type": "stream",
     "text": [
      "Train Epoch[33/50] loss: 0.528: 100%|██████████████████████████████| 3494/3494 [01:00<00:00, 58.05it/s]\n",
      "100%|████████████████████████████████████████████████████████████████| 219/219 [00:04<00:00, 53.07it/s]\n"
     ]
    },
    {
     "name": "stdout",
     "output_type": "stream",
     "text": [
      "Training loss : 0.7798598408699036\n",
      "Validation loss : 4.503315105830153\n"
     ]
    },
    {
     "name": "stderr",
     "output_type": "stream",
     "text": [
      "Train Epoch[34/50] loss: 0.432: 100%|██████████████████████████████| 3494/3494 [00:59<00:00, 58.50it/s]\n",
      "100%|████████████████████████████████████████████████████████████████| 219/219 [00:04<00:00, 51.09it/s]\n"
     ]
    },
    {
     "name": "stdout",
     "output_type": "stream",
     "text": [
      "Training loss : 0.7737233638763428\n",
      "Validation loss : 5.061694809290916\n"
     ]
    },
    {
     "name": "stderr",
     "output_type": "stream",
     "text": [
      "Train Epoch[35/50] loss: 0.909: 100%|██████████████████████████████| 3494/3494 [01:00<00:00, 57.65it/s]\n",
      "100%|████████████████████████████████████████████████████████████████| 219/219 [00:04<00:00, 50.77it/s]\n"
     ]
    },
    {
     "name": "stdout",
     "output_type": "stream",
     "text": [
      "Training loss : 0.7695589065551758\n",
      "Validation loss : 5.049449226083277\n"
     ]
    },
    {
     "name": "stderr",
     "output_type": "stream",
     "text": [
      "Train Epoch[36/50] loss: 0.605: 100%|██████████████████████████████| 3494/3494 [00:59<00:00, 58.82it/s]\n",
      "100%|████████████████████████████████████████████████████████████████| 219/219 [00:03<00:00, 58.04it/s]\n"
     ]
    },
    {
     "name": "stdout",
     "output_type": "stream",
     "text": [
      "Training loss : 0.7606529593467712\n",
      "Validation loss : 4.54989974738256\n"
     ]
    },
    {
     "name": "stderr",
     "output_type": "stream",
     "text": [
      "Train Epoch[37/50] loss: 0.643: 100%|██████████████████████████████| 3494/3494 [01:00<00:00, 57.58it/s]\n",
      "100%|████████████████████████████████████████████████████████████████| 219/219 [00:04<00:00, 49.95it/s]\n"
     ]
    },
    {
     "name": "stdout",
     "output_type": "stream",
     "text": [
      "Training loss : 0.7522644400596619\n",
      "Validation loss : 4.8548653169309715\n"
     ]
    },
    {
     "name": "stderr",
     "output_type": "stream",
     "text": [
      "Train Epoch[38/50] loss: 0.900: 100%|██████████████████████████████| 3494/3494 [00:59<00:00, 58.38it/s]\n",
      "100%|████████████████████████████████████████████████████████████████| 219/219 [00:03<00:00, 58.27it/s]\n"
     ]
    },
    {
     "name": "stdout",
     "output_type": "stream",
     "text": [
      "Training loss : 0.7498961687088013\n",
      "Validation loss : 5.148391426970425\n"
     ]
    },
    {
     "name": "stderr",
     "output_type": "stream",
     "text": [
      "Train Epoch[39/50] loss: 1.328: 100%|██████████████████████████████| 3494/3494 [00:59<00:00, 58.36it/s]\n",
      "100%|████████████████████████████████████████████████████████████████| 219/219 [00:04<00:00, 51.25it/s]\n"
     ]
    },
    {
     "name": "stdout",
     "output_type": "stream",
     "text": [
      "Training loss : 0.7428572773933411\n",
      "Validation loss : 5.006500257748991\n"
     ]
    },
    {
     "name": "stderr",
     "output_type": "stream",
     "text": [
      "Train Epoch[40/50] loss: 0.862: 100%|██████████████████████████████| 3494/3494 [01:00<00:00, 58.03it/s]\n",
      "100%|████████████████████████████████████████████████████████████████| 219/219 [00:04<00:00, 51.59it/s]\n"
     ]
    },
    {
     "name": "stdout",
     "output_type": "stream",
     "text": [
      "Training loss : 0.7477421164512634\n",
      "Validation loss : 5.055358869300041\n"
     ]
    },
    {
     "name": "stderr",
     "output_type": "stream",
     "text": [
      "Train Epoch[41/50] loss: 0.599: 100%|██████████████████████████████| 3494/3494 [00:59<00:00, 58.79it/s]\n",
      "100%|████████████████████████████████████████████████████████████████| 219/219 [00:03<00:00, 57.82it/s]\n"
     ]
    },
    {
     "name": "stdout",
     "output_type": "stream",
     "text": [
      "Training loss : 0.7352220416069031\n",
      "Validation loss : 5.250730887395606\n"
     ]
    },
    {
     "name": "stderr",
     "output_type": "stream",
     "text": [
      "Train Epoch[42/50] loss: 0.745: 100%|██████████████████████████████| 3494/3494 [01:00<00:00, 57.66it/s]\n",
      "100%|████████████████████████████████████████████████████████████████| 219/219 [00:04<00:00, 49.76it/s]\n"
     ]
    },
    {
     "name": "stdout",
     "output_type": "stream",
     "text": [
      "Training loss : 0.7325023412704468\n",
      "Validation loss : 5.786882129434037\n"
     ]
    },
    {
     "name": "stderr",
     "output_type": "stream",
     "text": [
      "Train Epoch[43/50] loss: 0.951: 100%|██████████████████████████████| 3494/3494 [00:59<00:00, 58.28it/s]\n",
      "100%|████████████████████████████████████████████████████████████████| 219/219 [00:03<00:00, 57.84it/s]\n"
     ]
    },
    {
     "name": "stdout",
     "output_type": "stream",
     "text": [
      "Training loss : 0.7272718548774719\n",
      "Validation loss : 5.258828804373197\n"
     ]
    },
    {
     "name": "stderr",
     "output_type": "stream",
     "text": [
      "Train Epoch[44/50] loss: 0.737: 100%|██████████████████████████████| 3494/3494 [01:00<00:00, 58.13it/s]\n",
      "100%|████████████████████████████████████████████████████████████████| 219/219 [00:04<00:00, 52.47it/s]\n"
     ]
    },
    {
     "name": "stdout",
     "output_type": "stream",
     "text": [
      "Training loss : 0.7197015881538391\n",
      "Validation loss : 5.125407154157282\n"
     ]
    },
    {
     "name": "stderr",
     "output_type": "stream",
     "text": [
      "Train Epoch[45/50] loss: 1.083: 100%|██████████████████████████████| 3494/3494 [00:59<00:00, 59.03it/s]\n",
      "100%|████████████████████████████████████████████████████████████████| 219/219 [00:03<00:00, 55.85it/s]\n"
     ]
    },
    {
     "name": "stdout",
     "output_type": "stream",
     "text": [
      "Training loss : 0.7191407084465027\n",
      "Validation loss : 5.309341542252667\n"
     ]
    },
    {
     "name": "stderr",
     "output_type": "stream",
     "text": [
      "Train Epoch[46/50] loss: 0.732: 100%|██████████████████████████████| 3494/3494 [00:58<00:00, 59.35it/s]\n",
      "100%|████████████████████████████████████████████████████████████████| 219/219 [00:03<00:00, 56.81it/s]\n"
     ]
    },
    {
     "name": "stdout",
     "output_type": "stream",
     "text": [
      "Training loss : 0.7156895995140076\n",
      "Validation loss : 5.579428525820171\n"
     ]
    },
    {
     "name": "stderr",
     "output_type": "stream",
     "text": [
      "Train Epoch[47/50] loss: 0.672: 100%|██████████████████████████████| 3494/3494 [00:59<00:00, 59.12it/s]\n",
      "100%|████████████████████████████████████████████████████████████████| 219/219 [00:03<00:00, 58.48it/s]\n"
     ]
    },
    {
     "name": "stdout",
     "output_type": "stream",
     "text": [
      "Training loss : 0.7063024640083313\n",
      "Validation loss : 5.628889315204534\n"
     ]
    },
    {
     "name": "stderr",
     "output_type": "stream",
     "text": [
      "Train Epoch[48/50] loss: 0.549: 100%|██████████████████████████████| 3494/3494 [00:58<00:00, 59.53it/s]\n",
      "100%|████████████████████████████████████████████████████████████████| 219/219 [00:03<00:00, 58.43it/s]\n"
     ]
    },
    {
     "name": "stdout",
     "output_type": "stream",
     "text": [
      "Training loss : 0.7016124725341797\n",
      "Validation loss : 5.51739485459785\n"
     ]
    },
    {
     "name": "stderr",
     "output_type": "stream",
     "text": [
      "Train Epoch[49/50] loss: 0.591: 100%|██████████████████████████████| 3494/3494 [00:58<00:00, 59.56it/s]\n",
      "100%|████████████████████████████████████████████████████████████████| 219/219 [00:03<00:00, 58.93it/s]\n"
     ]
    },
    {
     "name": "stdout",
     "output_type": "stream",
     "text": [
      "Training loss : 0.6986867189407349\n",
      "Validation loss : 5.748697239514355\n"
     ]
    },
    {
     "name": "stderr",
     "output_type": "stream",
     "text": [
      "Train Epoch[50/50] loss: 1.120: 100%|██████████████████████████████| 3494/3494 [00:58<00:00, 59.85it/s]\n",
      "100%|████████████████████████████████████████████████████████████████| 219/219 [00:03<00:00, 58.73it/s]\n"
     ]
    },
    {
     "name": "stdout",
     "output_type": "stream",
     "text": [
      "Training loss : 0.6906706690788269\n",
      "Validation loss : 5.681237470069433\n",
      "===============================================================================================\n",
      "======================= Batch 4 | Learning Rate 0.0001 | MIDX 2 =======================\n",
      "===============================================================================================\n"
     ]
    },
    {
     "name": "stderr",
     "output_type": "stream",
     "text": [
      "Train Epoch[1/50] loss: 1.718: 100%|███████████████████████████████| 3494/3494 [00:58<00:00, 59.98it/s]\n",
      "100%|████████████████████████████████████████████████████████████████| 219/219 [00:03<00:00, 58.88it/s]\n"
     ]
    },
    {
     "name": "stdout",
     "output_type": "stream",
     "text": [
      "Training loss : 1.7528237104415894\n",
      "Validation loss : 5.926953357104297\n"
     ]
    },
    {
     "name": "stderr",
     "output_type": "stream",
     "text": [
      "Train Epoch[2/50] loss: 1.753: 100%|███████████████████████████████| 3494/3494 [00:58<00:00, 60.14it/s]\n",
      "100%|████████████████████████████████████████████████████████████████| 219/219 [00:03<00:00, 58.91it/s]\n"
     ]
    },
    {
     "name": "stdout",
     "output_type": "stream",
     "text": [
      "Training loss : 1.4530771970748901\n",
      "Validation loss : 5.454547875548062\n"
     ]
    },
    {
     "name": "stderr",
     "output_type": "stream",
     "text": [
      "Train Epoch[3/50] loss: 1.696: 100%|███████████████████████████████| 3494/3494 [00:57<00:00, 60.30it/s]\n",
      "100%|████████████████████████████████████████████████████████████████| 219/219 [00:03<00:00, 59.17it/s]\n"
     ]
    },
    {
     "name": "stdout",
     "output_type": "stream",
     "text": [
      "Training loss : 1.384642243385315\n",
      "Validation loss : 5.579476609077628\n"
     ]
    },
    {
     "name": "stderr",
     "output_type": "stream",
     "text": [
      "Train Epoch[4/50] loss: 1.876: 100%|███████████████████████████████| 3494/3494 [00:57<00:00, 60.50it/s]\n",
      "100%|████████████████████████████████████████████████████████████████| 219/219 [00:03<00:00, 59.02it/s]\n"
     ]
    },
    {
     "name": "stdout",
     "output_type": "stream",
     "text": [
      "Training loss : 1.3504832983016968\n",
      "Validation loss : 5.469369298791232\n"
     ]
    },
    {
     "name": "stderr",
     "output_type": "stream",
     "text": [
      "Train Epoch[5/50] loss: 1.377: 100%|███████████████████████████████| 3494/3494 [00:58<00:00, 60.22it/s]\n",
      "100%|████████████████████████████████████████████████████████████████| 219/219 [00:03<00:00, 59.13it/s]\n"
     ]
    },
    {
     "name": "stdout",
     "output_type": "stream",
     "text": [
      "Training loss : 1.3163530826568604\n",
      "Validation loss : 5.154730630247561\n"
     ]
    },
    {
     "name": "stderr",
     "output_type": "stream",
     "text": [
      "Train Epoch[6/50] loss: 1.229: 100%|███████████████████████████████| 3494/3494 [00:57<00:00, 60.72it/s]\n",
      "100%|████████████████████████████████████████████████████████████████| 219/219 [00:03<00:00, 59.25it/s]\n"
     ]
    },
    {
     "name": "stdout",
     "output_type": "stream",
     "text": [
      "Training loss : 1.290814995765686\n",
      "Validation loss : 5.173773753588603\n"
     ]
    },
    {
     "name": "stderr",
     "output_type": "stream",
     "text": [
      "Train Epoch[7/50] loss: 1.175: 100%|███████████████████████████████| 3494/3494 [00:58<00:00, 60.23it/s]\n",
      "100%|████████████████████████████████████████████████████████████████| 219/219 [00:03<00:00, 59.28it/s]\n"
     ]
    },
    {
     "name": "stdout",
     "output_type": "stream",
     "text": [
      "Training loss : 1.2663445472717285\n",
      "Validation loss : 5.057931568524609\n"
     ]
    },
    {
     "name": "stderr",
     "output_type": "stream",
     "text": [
      "Train Epoch[8/50] loss: 1.229: 100%|███████████████████████████████| 3494/3494 [00:57<00:00, 60.67it/s]\n",
      "100%|████████████████████████████████████████████████████████████████| 219/219 [00:03<00:00, 58.98it/s]\n"
     ]
    },
    {
     "name": "stdout",
     "output_type": "stream",
     "text": [
      "Training loss : 1.2504760026931763\n",
      "Validation loss : 5.083267877635346\n"
     ]
    },
    {
     "name": "stderr",
     "output_type": "stream",
     "text": [
      "Train Epoch[9/50] loss: 1.624: 100%|███████████████████████████████| 3494/3494 [00:57<00:00, 60.58it/s]\n",
      "100%|████████████████████████████████████████████████████████████████| 219/219 [00:03<00:00, 59.41it/s]\n"
     ]
    },
    {
     "name": "stdout",
     "output_type": "stream",
     "text": [
      "Training loss : 1.237154245376587\n",
      "Validation loss : 4.971182396422782\n"
     ]
    },
    {
     "name": "stderr",
     "output_type": "stream",
     "text": [
      "Train Epoch[10/50] loss: 1.301: 100%|██████████████████████████████| 3494/3494 [00:57<00:00, 60.34it/s]\n",
      "100%|████████████████████████████████████████████████████████████████| 219/219 [00:03<00:00, 59.48it/s]\n"
     ]
    },
    {
     "name": "stdout",
     "output_type": "stream",
     "text": [
      "Training loss : 1.227611780166626\n",
      "Validation loss : 4.884300473618181\n"
     ]
    },
    {
     "name": "stderr",
     "output_type": "stream",
     "text": [
      "Train Epoch[11/50] loss: 1.046: 100%|██████████████████████████████| 3494/3494 [00:57<00:00, 60.84it/s]\n",
      "100%|████████████████████████████████████████████████████████████████| 219/219 [00:03<00:00, 59.14it/s]\n"
     ]
    },
    {
     "name": "stdout",
     "output_type": "stream",
     "text": [
      "Training loss : 1.209815263748169\n",
      "Validation loss : 4.9155721430364805\n"
     ]
    },
    {
     "name": "stderr",
     "output_type": "stream",
     "text": [
      "Train Epoch[12/50] loss: 1.328: 100%|██████████████████████████████| 3494/3494 [00:57<00:00, 60.98it/s]\n",
      "100%|████████████████████████████████████████████████████████████████| 219/219 [00:03<00:00, 59.53it/s]\n"
     ]
    },
    {
     "name": "stdout",
     "output_type": "stream",
     "text": [
      "Training loss : 1.2037005424499512\n",
      "Validation loss : 4.891772651236896\n"
     ]
    },
    {
     "name": "stderr",
     "output_type": "stream",
     "text": [
      "Train Epoch[13/50] loss: 1.217: 100%|██████████████████████████████| 3494/3494 [00:57<00:00, 61.05it/s]\n",
      "100%|████████████████████████████████████████████████████████████████| 219/219 [00:03<00:00, 59.28it/s]\n"
     ]
    },
    {
     "name": "stdout",
     "output_type": "stream",
     "text": [
      "Training loss : 1.202150821685791\n",
      "Validation loss : 4.805608126670802\n"
     ]
    },
    {
     "name": "stderr",
     "output_type": "stream",
     "text": [
      "Train Epoch[14/50] loss: 1.030: 100%|██████████████████████████████| 3494/3494 [00:57<00:00, 60.92it/s]\n",
      "100%|████████████████████████████████████████████████████████████████| 219/219 [00:03<00:00, 59.59it/s]\n"
     ]
    },
    {
     "name": "stdout",
     "output_type": "stream",
     "text": [
      "Training loss : 1.1940656900405884\n",
      "Validation loss : 4.758493444146631\n"
     ]
    },
    {
     "name": "stderr",
     "output_type": "stream",
     "text": [
      "Train Epoch[15/50] loss: 1.085: 100%|██████████████████████████████| 3494/3494 [00:57<00:00, 61.23it/s]\n",
      "100%|████████████████████████████████████████████████████████████████| 219/219 [00:03<00:00, 59.38it/s]\n"
     ]
    },
    {
     "name": "stdout",
     "output_type": "stream",
     "text": [
      "Training loss : 1.193427562713623\n",
      "Validation loss : 4.819126838962782\n"
     ]
    },
    {
     "name": "stderr",
     "output_type": "stream",
     "text": [
      "Train Epoch[16/50] loss: 1.225: 100%|██████████████████████████████| 3494/3494 [00:57<00:00, 61.21it/s]\n",
      "100%|████████████████████████████████████████████████████████████████| 219/219 [00:03<00:00, 59.23it/s]\n"
     ]
    },
    {
     "name": "stdout",
     "output_type": "stream",
     "text": [
      "Training loss : 1.1872549057006836\n",
      "Validation loss : 4.853731781380362\n"
     ]
    },
    {
     "name": "stderr",
     "output_type": "stream",
     "text": [
      "Train Epoch[17/50] loss: 0.975: 100%|██████████████████████████████| 3494/3494 [00:57<00:00, 60.52it/s]\n",
      "100%|████████████████████████████████████████████████████████████████| 219/219 [00:03<00:00, 59.14it/s]\n"
     ]
    },
    {
     "name": "stdout",
     "output_type": "stream",
     "text": [
      "Training loss : 1.1910157203674316\n",
      "Validation loss : 4.820739075473455\n"
     ]
    },
    {
     "name": "stderr",
     "output_type": "stream",
     "text": [
      "Train Epoch[18/50] loss: 1.051: 100%|██████████████████████████████| 3494/3494 [00:57<00:00, 60.47it/s]\n",
      "100%|████████████████████████████████████████████████████████████████| 219/219 [00:03<00:00, 59.09it/s]\n"
     ]
    },
    {
     "name": "stdout",
     "output_type": "stream",
     "text": [
      "Training loss : 1.1916028261184692\n",
      "Validation loss : 4.841134942285547\n"
     ]
    },
    {
     "name": "stderr",
     "output_type": "stream",
     "text": [
      "Train Epoch[19/50] loss: 0.901: 100%|██████████████████████████████| 3494/3494 [00:57<00:00, 60.55it/s]\n",
      "100%|████████████████████████████████████████████████████████████████| 219/219 [00:03<00:00, 59.23it/s]\n"
     ]
    },
    {
     "name": "stdout",
     "output_type": "stream",
     "text": [
      "Training loss : 1.1996721029281616\n",
      "Validation loss : 4.834410836163177\n"
     ]
    },
    {
     "name": "stderr",
     "output_type": "stream",
     "text": [
      "Train Epoch[20/50] loss: 1.281: 100%|██████████████████████████████| 3494/3494 [00:57<00:00, 60.43it/s]\n",
      "100%|████████████████████████████████████████████████████████████████| 219/219 [00:03<00:00, 58.84it/s]\n"
     ]
    },
    {
     "name": "stdout",
     "output_type": "stream",
     "text": [
      "Training loss : 1.20200777053833\n",
      "Validation loss : 4.86029823022346\n"
     ]
    },
    {
     "name": "stderr",
     "output_type": "stream",
     "text": [
      "Train Epoch[21/50] loss: 1.337: 100%|██████████████████████████████| 3494/3494 [00:57<00:00, 60.43it/s]\n",
      "100%|████████████████████████████████████████████████████████████████| 219/219 [00:03<00:00, 58.82it/s]\n"
     ]
    },
    {
     "name": "stdout",
     "output_type": "stream",
     "text": [
      "Training loss : 1.201154112815857\n",
      "Validation loss : 4.785807201307114\n"
     ]
    },
    {
     "name": "stderr",
     "output_type": "stream",
     "text": [
      "Train Epoch[22/50] loss: 1.626: 100%|██████████████████████████████| 3494/3494 [00:58<00:00, 59.79it/s]\n",
      "100%|████████████████████████████████████████████████████████████████| 219/219 [00:03<00:00, 58.58it/s]\n"
     ]
    },
    {
     "name": "stdout",
     "output_type": "stream",
     "text": [
      "Training loss : 1.2002938985824585\n",
      "Validation loss : 4.81278545671402\n"
     ]
    },
    {
     "name": "stderr",
     "output_type": "stream",
     "text": [
      "Train Epoch[23/50] loss: 1.230: 100%|██████████████████████████████| 3494/3494 [00:58<00:00, 59.79it/s]\n",
      "100%|████████████████████████████████████████████████████████████████| 219/219 [00:03<00:00, 58.66it/s]\n"
     ]
    },
    {
     "name": "stdout",
     "output_type": "stream",
     "text": [
      "Training loss : 1.2142282724380493\n",
      "Validation loss : 4.881553955274086\n"
     ]
    },
    {
     "name": "stderr",
     "output_type": "stream",
     "text": [
      "Train Epoch[24/50] loss: 1.410: 100%|██████████████████████████████| 3494/3494 [00:58<00:00, 59.94it/s]\n",
      "100%|████████████████████████████████████████████████████████████████| 219/219 [00:03<00:00, 58.51it/s]\n"
     ]
    },
    {
     "name": "stdout",
     "output_type": "stream",
     "text": [
      "Training loss : 1.2159394025802612\n",
      "Validation loss : 4.89639392073296\n"
     ]
    },
    {
     "name": "stderr",
     "output_type": "stream",
     "text": [
      "Train Epoch[25/50] loss: 1.142: 100%|██████████████████████████████| 3494/3494 [00:58<00:00, 59.60it/s]\n",
      "100%|████████████████████████████████████████████████████████████████| 219/219 [00:03<00:00, 58.34it/s]\n"
     ]
    },
    {
     "name": "stdout",
     "output_type": "stream",
     "text": [
      "Training loss : 1.2064017057418823\n",
      "Validation loss : 4.812885768881672\n"
     ]
    },
    {
     "name": "stderr",
     "output_type": "stream",
     "text": [
      "Train Epoch[26/50] loss: 1.218: 100%|██████████████████████████████| 3494/3494 [00:58<00:00, 59.94it/s]\n",
      "100%|████████████████████████████████████████████████████████████████| 219/219 [00:03<00:00, 58.30it/s]\n"
     ]
    },
    {
     "name": "stdout",
     "output_type": "stream",
     "text": [
      "Training loss : 1.2028545141220093\n",
      "Validation loss : 4.835435423132491\n"
     ]
    },
    {
     "name": "stderr",
     "output_type": "stream",
     "text": [
      "Train Epoch[27/50] loss: 1.076: 100%|██████████████████████████████| 3494/3494 [00:58<00:00, 59.82it/s]\n",
      "100%|████████████████████████████████████████████████████████████████| 219/219 [00:03<00:00, 58.22it/s]\n"
     ]
    },
    {
     "name": "stdout",
     "output_type": "stream",
     "text": [
      "Training loss : 1.21397864818573\n",
      "Validation loss : 4.935106319923923\n"
     ]
    },
    {
     "name": "stderr",
     "output_type": "stream",
     "text": [
      "Train Epoch[28/50] loss: 1.465: 100%|██████████████████████████████| 3494/3494 [00:58<00:00, 59.27it/s]\n",
      "100%|████████████████████████████████████████████████████████████████| 219/219 [00:03<00:00, 58.07it/s]\n"
     ]
    },
    {
     "name": "stdout",
     "output_type": "stream",
     "text": [
      "Training loss : 1.2095507383346558\n",
      "Validation loss : 4.849952009714902\n"
     ]
    },
    {
     "name": "stderr",
     "output_type": "stream",
     "text": [
      "Train Epoch[29/50] loss: 1.600: 100%|██████████████████████████████| 3494/3494 [00:58<00:00, 59.47it/s]\n",
      "100%|████████████████████████████████████████████████████████████████| 219/219 [00:03<00:00, 58.18it/s]\n"
     ]
    },
    {
     "name": "stdout",
     "output_type": "stream",
     "text": [
      "Training loss : 1.1977384090423584\n",
      "Validation loss : 4.8931052717444015\n"
     ]
    },
    {
     "name": "stderr",
     "output_type": "stream",
     "text": [
      "Train Epoch[30/50] loss: 1.509: 100%|██████████████████████████████| 3494/3494 [00:58<00:00, 59.55it/s]\n",
      "100%|████████████████████████████████████████████████████████████████| 219/219 [00:03<00:00, 58.00it/s]\n"
     ]
    },
    {
     "name": "stdout",
     "output_type": "stream",
     "text": [
      "Training loss : 1.198203682899475\n",
      "Validation loss : 4.948180098511857\n"
     ]
    },
    {
     "name": "stderr",
     "output_type": "stream",
     "text": [
      "Train Epoch[31/50] loss: 1.205: 100%|██████████████████████████████| 3494/3494 [00:58<00:00, 59.50it/s]\n",
      "100%|████████████████████████████████████████████████████████████████| 219/219 [00:03<00:00, 57.93it/s]\n"
     ]
    },
    {
     "name": "stdout",
     "output_type": "stream",
     "text": [
      "Training loss : 1.2058414220809937\n",
      "Validation loss : 4.899323293607529\n"
     ]
    },
    {
     "name": "stderr",
     "output_type": "stream",
     "text": [
      "Train Epoch[32/50] loss: 1.477: 100%|██████████████████████████████| 3494/3494 [00:58<00:00, 59.39it/s]\n",
      "100%|████████████████████████████████████████████████████████████████| 219/219 [00:03<00:00, 57.82it/s]\n"
     ]
    },
    {
     "name": "stdout",
     "output_type": "stream",
     "text": [
      "Training loss : 1.218846082687378\n",
      "Validation loss : 4.934862209781664\n"
     ]
    },
    {
     "name": "stderr",
     "output_type": "stream",
     "text": [
      "Train Epoch[33/50] loss: 1.681: 100%|██████████████████████████████| 3494/3494 [00:58<00:00, 59.49it/s]\n",
      "100%|████████████████████████████████████████████████████████████████| 219/219 [00:03<00:00, 57.92it/s]\n"
     ]
    },
    {
     "name": "stdout",
     "output_type": "stream",
     "text": [
      "Training loss : 1.2115017175674438\n",
      "Validation loss : 4.892510186047314\n"
     ]
    },
    {
     "name": "stderr",
     "output_type": "stream",
     "text": [
      "Train Epoch[34/50] loss: 1.526: 100%|██████████████████████████████| 3494/3494 [00:58<00:00, 59.40it/s]\n",
      "100%|████████████████████████████████████████████████████████████████| 219/219 [00:03<00:00, 57.89it/s]\n"
     ]
    },
    {
     "name": "stdout",
     "output_type": "stream",
     "text": [
      "Training loss : 1.2063947916030884\n",
      "Validation loss : 4.896556527647253\n"
     ]
    },
    {
     "name": "stderr",
     "output_type": "stream",
     "text": [
      "Train Epoch[35/50] loss: 1.450: 100%|██████████████████████████████| 3494/3494 [00:58<00:00, 59.39it/s]\n",
      "100%|████████████████████████████████████████████████████████████████| 219/219 [00:03<00:00, 57.92it/s]\n"
     ]
    },
    {
     "name": "stdout",
     "output_type": "stream",
     "text": [
      "Training loss : 1.1990097761154175\n",
      "Validation loss : 4.831336545617613\n"
     ]
    },
    {
     "name": "stderr",
     "output_type": "stream",
     "text": [
      "Train Epoch[36/50] loss: 1.351: 100%|██████████████████████████████| 3494/3494 [00:58<00:00, 59.34it/s]\n",
      "100%|████████████████████████████████████████████████████████████████| 219/219 [00:03<00:00, 57.51it/s]\n"
     ]
    },
    {
     "name": "stdout",
     "output_type": "stream",
     "text": [
      "Training loss : 1.209476113319397\n",
      "Validation loss : 4.910450297947888\n"
     ]
    },
    {
     "name": "stderr",
     "output_type": "stream",
     "text": [
      "Train Epoch[37/50] loss: 1.329: 100%|██████████████████████████████| 3494/3494 [00:59<00:00, 58.94it/s]\n",
      "100%|████████████████████████████████████████████████████████████████| 219/219 [00:03<00:00, 57.66it/s]\n"
     ]
    },
    {
     "name": "stdout",
     "output_type": "stream",
     "text": [
      "Training loss : 1.2091014385223389\n",
      "Validation loss : 4.848993204500033\n"
     ]
    },
    {
     "name": "stderr",
     "output_type": "stream",
     "text": [
      "Train Epoch[38/50] loss: 1.281: 100%|██████████████████████████████| 3494/3494 [00:59<00:00, 58.91it/s]\n",
      "100%|████████████████████████████████████████████████████████████████| 219/219 [00:03<00:00, 57.81it/s]\n"
     ]
    },
    {
     "name": "stdout",
     "output_type": "stream",
     "text": [
      "Training loss : 1.201743721961975\n",
      "Validation loss : 4.885690146929597\n"
     ]
    },
    {
     "name": "stderr",
     "output_type": "stream",
     "text": [
      "Train Epoch[39/50] loss: 1.742: 100%|██████████████████████████████| 3494/3494 [00:59<00:00, 59.11it/s]\n",
      "100%|████████████████████████████████████████████████████████████████| 219/219 [00:03<00:00, 57.84it/s]\n"
     ]
    },
    {
     "name": "stdout",
     "output_type": "stream",
     "text": [
      "Training loss : 1.2018309831619263\n",
      "Validation loss : 4.837851101405\n"
     ]
    },
    {
     "name": "stderr",
     "output_type": "stream",
     "text": [
      "Train Epoch[40/50] loss: 1.897: 100%|██████████████████████████████| 3494/3494 [00:59<00:00, 58.83it/s]\n",
      "100%|████████████████████████████████████████████████████████████████| 219/219 [00:03<00:00, 57.83it/s]\n"
     ]
    },
    {
     "name": "stdout",
     "output_type": "stream",
     "text": [
      "Training loss : 1.199393630027771\n",
      "Validation loss : 4.876176760076932\n"
     ]
    },
    {
     "name": "stderr",
     "output_type": "stream",
     "text": [
      "Train Epoch[41/50] loss: 1.526: 100%|██████████████████████████████| 3494/3494 [00:58<00:00, 59.26it/s]\n",
      "100%|████████████████████████████████████████████████████████████████| 219/219 [00:03<00:00, 57.67it/s]\n"
     ]
    },
    {
     "name": "stdout",
     "output_type": "stream",
     "text": [
      "Training loss : 1.1976559162139893\n",
      "Validation loss : 4.900038912960383\n"
     ]
    },
    {
     "name": "stderr",
     "output_type": "stream",
     "text": [
      "Train Epoch[42/50] loss: 1.275: 100%|██████████████████████████████| 3494/3494 [00:58<00:00, 59.25it/s]\n",
      "100%|████████████████████████████████████████████████████████████████| 219/219 [00:03<00:00, 57.88it/s]\n"
     ]
    },
    {
     "name": "stdout",
     "output_type": "stream",
     "text": [
      "Training loss : 1.2093197107315063\n",
      "Validation loss : 4.884276213711256\n"
     ]
    },
    {
     "name": "stderr",
     "output_type": "stream",
     "text": [
      "Train Epoch[43/50] loss: 1.320: 100%|██████████████████████████████| 3494/3494 [00:58<00:00, 59.22it/s]\n",
      "100%|████████████████████████████████████████████████████████████████| 219/219 [00:03<00:00, 57.62it/s]\n"
     ]
    },
    {
     "name": "stdout",
     "output_type": "stream",
     "text": [
      "Training loss : 1.2317965030670166\n",
      "Validation loss : 4.898712201749897\n"
     ]
    },
    {
     "name": "stderr",
     "output_type": "stream",
     "text": [
      "Train Epoch[44/50] loss: 1.900: 100%|██████████████████████████████| 3494/3494 [00:59<00:00, 59.06it/s]\n",
      "100%|████████████████████████████████████████████████████████████████| 219/219 [00:03<00:00, 57.90it/s]\n"
     ]
    },
    {
     "name": "stdout",
     "output_type": "stream",
     "text": [
      "Training loss : 1.2319194078445435\n",
      "Validation loss : 4.8592715633514265\n"
     ]
    },
    {
     "name": "stderr",
     "output_type": "stream",
     "text": [
      "Train Epoch[45/50] loss: 1.585: 100%|██████████████████████████████| 3494/3494 [00:59<00:00, 59.11it/s]\n",
      "100%|████████████████████████████████████████████████████████████████| 219/219 [00:03<00:00, 57.72it/s]\n"
     ]
    },
    {
     "name": "stdout",
     "output_type": "stream",
     "text": [
      "Training loss : 1.2405325174331665\n",
      "Validation loss : 4.867827504737192\n"
     ]
    },
    {
     "name": "stderr",
     "output_type": "stream",
     "text": [
      "Train Epoch[46/50] loss: 1.694: 100%|██████████████████████████████| 3494/3494 [00:59<00:00, 59.05it/s]\n",
      "100%|████████████████████████████████████████████████████████████████| 219/219 [00:03<00:00, 57.90it/s]\n"
     ]
    },
    {
     "name": "stdout",
     "output_type": "stream",
     "text": [
      "Training loss : 1.2382577657699585\n",
      "Validation loss : 4.856259000900129\n"
     ]
    },
    {
     "name": "stderr",
     "output_type": "stream",
     "text": [
      "Train Epoch[47/50] loss: 1.520: 100%|██████████████████████████████| 3494/3494 [00:59<00:00, 58.60it/s]\n",
      "100%|████████████████████████████████████████████████████████████████| 219/219 [00:03<00:00, 57.58it/s]\n"
     ]
    },
    {
     "name": "stdout",
     "output_type": "stream",
     "text": [
      "Training loss : 1.2442244291305542\n",
      "Validation loss : 4.932827655583212\n"
     ]
    },
    {
     "name": "stderr",
     "output_type": "stream",
     "text": [
      "Train Epoch[48/50] loss: 1.381: 100%|██████████████████████████████| 3494/3494 [00:59<00:00, 59.05it/s]\n",
      "100%|████████████████████████████████████████████████████████████████| 219/219 [00:03<00:00, 57.63it/s]\n"
     ]
    },
    {
     "name": "stdout",
     "output_type": "stream",
     "text": [
      "Training loss : 1.2420878410339355\n",
      "Validation loss : 5.094313258449781\n"
     ]
    },
    {
     "name": "stderr",
     "output_type": "stream",
     "text": [
      "Train Epoch[49/50] loss: 1.534: 100%|██████████████████████████████| 3494/3494 [00:59<00:00, 59.00it/s]\n",
      "100%|████████████████████████████████████████████████████████████████| 219/219 [00:03<00:00, 58.00it/s]\n"
     ]
    },
    {
     "name": "stdout",
     "output_type": "stream",
     "text": [
      "Training loss : 1.255599856376648\n",
      "Validation loss : 5.165541461613625\n"
     ]
    },
    {
     "name": "stderr",
     "output_type": "stream",
     "text": [
      "Train Epoch[50/50] loss: 1.349: 100%|██████████████████████████████| 3494/3494 [00:59<00:00, 58.49it/s]\n",
      "100%|████████████████████████████████████████████████████████████████| 219/219 [00:03<00:00, 57.97it/s]\n"
     ]
    },
    {
     "name": "stdout",
     "output_type": "stream",
     "text": [
      "Training loss : 1.2806875705718994\n",
      "Validation loss : 5.1274886686507966\n",
      "===============================================================================================\n",
      "======================= Batch 4 | Learning Rate 0.0005 | MIDX 3 =======================\n",
      "===============================================================================================\n"
     ]
    },
    {
     "name": "stderr",
     "output_type": "stream",
     "text": [
      "Train Epoch[1/50] loss: 2.112: 100%|███████████████████████████████| 3494/3494 [00:59<00:00, 58.88it/s]\n",
      "100%|████████████████████████████████████████████████████████████████| 219/219 [00:03<00:00, 57.74it/s]\n"
     ]
    },
    {
     "name": "stdout",
     "output_type": "stream",
     "text": [
      "Training loss : 1.8358396291732788\n",
      "Validation loss : 6.630265405733291\n"
     ]
    },
    {
     "name": "stderr",
     "output_type": "stream",
     "text": [
      "Train Epoch[2/50] loss: 2.259: 100%|███████████████████████████████| 3494/3494 [00:59<00:00, 58.85it/s]\n",
      "100%|████████████████████████████████████████████████████████████████| 219/219 [00:03<00:00, 57.98it/s]\n"
     ]
    },
    {
     "name": "stdout",
     "output_type": "stream",
     "text": [
      "Training loss : 1.5696930885314941\n",
      "Validation loss : 6.22552891517883\n"
     ]
    },
    {
     "name": "stderr",
     "output_type": "stream",
     "text": [
      "Train Epoch[3/50] loss: 2.040: 100%|███████████████████████████████| 3494/3494 [00:59<00:00, 58.46it/s]\n",
      "100%|████████████████████████████████████████████████████████████████| 219/219 [00:03<00:00, 57.72it/s]\n"
     ]
    },
    {
     "name": "stdout",
     "output_type": "stream",
     "text": [
      "Training loss : 1.5720828771591187\n",
      "Validation loss : 6.287399231026706\n"
     ]
    },
    {
     "name": "stderr",
     "output_type": "stream",
     "text": [
      "Train Epoch[4/50] loss: 1.762: 100%|███████████████████████████████| 3494/3494 [00:59<00:00, 58.81it/s]\n",
      "100%|████████████████████████████████████████████████████████████████| 219/219 [00:03<00:00, 58.10it/s]\n"
     ]
    },
    {
     "name": "stdout",
     "output_type": "stream",
     "text": [
      "Training loss : 1.5801142454147339\n",
      "Validation loss : 6.191231491358857\n"
     ]
    },
    {
     "name": "stderr",
     "output_type": "stream",
     "text": [
      "Train Epoch[5/50] loss: 2.084: 100%|███████████████████████████████| 3494/3494 [00:59<00:00, 58.72it/s]\n",
      "100%|████████████████████████████████████████████████████████████████| 219/219 [00:03<00:00, 57.98it/s]\n"
     ]
    },
    {
     "name": "stdout",
     "output_type": "stream",
     "text": [
      "Training loss : 1.591439962387085\n",
      "Validation loss : 6.266960669325911\n"
     ]
    },
    {
     "name": "stderr",
     "output_type": "stream",
     "text": [
      "Train Epoch[6/50] loss: 2.701: 100%|███████████████████████████████| 3494/3494 [00:59<00:00, 59.06it/s]\n",
      "100%|████████████████████████████████████████████████████████████████| 219/219 [00:03<00:00, 58.05it/s]\n"
     ]
    },
    {
     "name": "stdout",
     "output_type": "stream",
     "text": [
      "Training loss : 1.5741446018218994\n",
      "Validation loss : 6.275517650935203\n"
     ]
    },
    {
     "name": "stderr",
     "output_type": "stream",
     "text": [
      "Train Epoch[7/50] loss: 1.547: 100%|███████████████████████████████| 3494/3494 [00:59<00:00, 58.68it/s]\n",
      "100%|████████████████████████████████████████████████████████████████| 219/219 [00:03<00:00, 58.00it/s]\n"
     ]
    },
    {
     "name": "stdout",
     "output_type": "stream",
     "text": [
      "Training loss : 1.5722285509109497\n",
      "Validation loss : 6.252694794032127\n"
     ]
    },
    {
     "name": "stderr",
     "output_type": "stream",
     "text": [
      "Train Epoch[8/50] loss: 2.419: 100%|███████████████████████████████| 3494/3494 [00:59<00:00, 58.77it/s]\n",
      "100%|████████████████████████████████████████████████████████████████| 219/219 [00:03<00:00, 57.81it/s]\n"
     ]
    },
    {
     "name": "stdout",
     "output_type": "stream",
     "text": [
      "Training loss : 1.5642930269241333\n",
      "Validation loss : 6.221241284723151\n"
     ]
    },
    {
     "name": "stderr",
     "output_type": "stream",
     "text": [
      "Train Epoch[9/50] loss: 1.915: 100%|███████████████████████████████| 3494/3494 [00:59<00:00, 58.94it/s]\n",
      "100%|████████████████████████████████████████████████████████████████| 219/219 [00:03<00:00, 58.34it/s]\n"
     ]
    },
    {
     "name": "stdout",
     "output_type": "stream",
     "text": [
      "Training loss : 1.5650032758712769\n",
      "Validation loss : 6.317271964190757\n"
     ]
    },
    {
     "name": "stderr",
     "output_type": "stream",
     "text": [
      "Train Epoch[10/50] loss: 1.736: 100%|██████████████████████████████| 3494/3494 [00:59<00:00, 58.97it/s]\n",
      "100%|████████████████████████████████████████████████████████████████| 219/219 [00:03<00:00, 57.83it/s]\n"
     ]
    },
    {
     "name": "stdout",
     "output_type": "stream",
     "text": [
      "Training loss : 1.560197353363037\n",
      "Validation loss : 6.1017433867606945\n"
     ]
    },
    {
     "name": "stderr",
     "output_type": "stream",
     "text": [
      "Train Epoch[11/50] loss: 1.690: 100%|██████████████████████████████| 3494/3494 [00:59<00:00, 59.05it/s]\n",
      "100%|████████████████████████████████████████████████████████████████| 219/219 [00:03<00:00, 57.99it/s]\n"
     ]
    },
    {
     "name": "stdout",
     "output_type": "stream",
     "text": [
      "Training loss : 1.5445870161056519\n",
      "Validation loss : 6.257816887881658\n"
     ]
    },
    {
     "name": "stderr",
     "output_type": "stream",
     "text": [
      "Train Epoch[12/50] loss: 1.835: 100%|██████████████████████████████| 3494/3494 [00:59<00:00, 58.56it/s]\n",
      "100%|████████████████████████████████████████████████████████████████| 219/219 [00:03<00:00, 58.02it/s]\n"
     ]
    },
    {
     "name": "stdout",
     "output_type": "stream",
     "text": [
      "Training loss : 1.5504305362701416\n",
      "Validation loss : 6.043922443912454\n"
     ]
    },
    {
     "name": "stderr",
     "output_type": "stream",
     "text": [
      "Train Epoch[13/50] loss: 1.943: 100%|██████████████████████████████| 3494/3494 [00:59<00:00, 58.54it/s]\n",
      "100%|████████████████████████████████████████████████████████████████| 219/219 [00:03<00:00, 57.83it/s]\n"
     ]
    },
    {
     "name": "stdout",
     "output_type": "stream",
     "text": [
      "Training loss : 1.5446935892105103\n",
      "Validation loss : 6.266058891331224\n"
     ]
    },
    {
     "name": "stderr",
     "output_type": "stream",
     "text": [
      "Train Epoch[14/50] loss: 1.932: 100%|██████████████████████████████| 3494/3494 [00:59<00:00, 58.71it/s]\n",
      "100%|████████████████████████████████████████████████████████████████| 219/219 [00:03<00:00, 58.17it/s]\n"
     ]
    },
    {
     "name": "stdout",
     "output_type": "stream",
     "text": [
      "Training loss : 1.5437836647033691\n",
      "Validation loss : 6.18874001067523\n"
     ]
    },
    {
     "name": "stderr",
     "output_type": "stream",
     "text": [
      "Train Epoch[15/50] loss: 2.293: 100%|██████████████████████████████| 3494/3494 [00:59<00:00, 58.54it/s]\n",
      "100%|████████████████████████████████████████████████████████████████| 219/219 [00:03<00:00, 58.20it/s]\n"
     ]
    },
    {
     "name": "stdout",
     "output_type": "stream",
     "text": [
      "Training loss : 1.5441257953643799\n",
      "Validation loss : 6.124078868186637\n"
     ]
    },
    {
     "name": "stderr",
     "output_type": "stream",
     "text": [
      "Train Epoch[16/50] loss: 1.933: 100%|██████████████████████████████| 3494/3494 [00:59<00:00, 58.89it/s]\n",
      "100%|████████████████████████████████████████████████████████████████| 219/219 [00:03<00:00, 57.76it/s]\n"
     ]
    },
    {
     "name": "stdout",
     "output_type": "stream",
     "text": [
      "Training loss : 1.5441627502441406\n",
      "Validation loss : 6.268230650522938\n"
     ]
    },
    {
     "name": "stderr",
     "output_type": "stream",
     "text": [
      "Train Epoch[17/50] loss: 1.968: 100%|██████████████████████████████| 3494/3494 [00:59<00:00, 59.04it/s]\n",
      "100%|████████████████████████████████████████████████████████████████| 219/219 [00:03<00:00, 57.16it/s]\n"
     ]
    },
    {
     "name": "stdout",
     "output_type": "stream",
     "text": [
      "Training loss : 1.5461385250091553\n",
      "Validation loss : 6.286522532162601\n"
     ]
    },
    {
     "name": "stderr",
     "output_type": "stream",
     "text": [
      "Train Epoch[18/50] loss: 2.126: 100%|██████████████████████████████| 3494/3494 [00:59<00:00, 58.56it/s]\n",
      "100%|████████████████████████████████████████████████████████████████| 219/219 [00:03<00:00, 58.17it/s]\n"
     ]
    },
    {
     "name": "stdout",
     "output_type": "stream",
     "text": [
      "Training loss : 1.558253288269043\n",
      "Validation loss : 6.541310448624772\n"
     ]
    },
    {
     "name": "stderr",
     "output_type": "stream",
     "text": [
      "Train Epoch[19/50] loss: 1.370: 100%|██████████████████████████████| 3494/3494 [00:59<00:00, 58.74it/s]\n",
      "100%|████████████████████████████████████████████████████████████████| 219/219 [00:03<00:00, 58.02it/s]\n"
     ]
    },
    {
     "name": "stdout",
     "output_type": "stream",
     "text": [
      "Training loss : 1.5497437715530396\n",
      "Validation loss : 6.239777383194666\n"
     ]
    },
    {
     "name": "stderr",
     "output_type": "stream",
     "text": [
      "Train Epoch[20/50] loss: 1.556: 100%|██████████████████████████████| 3494/3494 [00:59<00:00, 58.51it/s]\n",
      "100%|████████████████████████████████████████████████████████████████| 219/219 [00:03<00:00, 58.08it/s]\n"
     ]
    },
    {
     "name": "stdout",
     "output_type": "stream",
     "text": [
      "Training loss : 1.5486197471618652\n",
      "Validation loss : 6.3260917794214535\n"
     ]
    },
    {
     "name": "stderr",
     "output_type": "stream",
     "text": [
      "Train Epoch[21/50] loss: 1.599: 100%|██████████████████████████████| 3494/3494 [00:59<00:00, 58.90it/s]\n",
      "100%|████████████████████████████████████████████████████████████████| 219/219 [00:03<00:00, 57.93it/s]\n"
     ]
    },
    {
     "name": "stdout",
     "output_type": "stream",
     "text": [
      "Training loss : 1.5527535676956177\n",
      "Validation loss : 6.105644085635878\n"
     ]
    },
    {
     "name": "stderr",
     "output_type": "stream",
     "text": [
      "Train Epoch[22/50] loss: 1.989: 100%|██████████████████████████████| 3494/3494 [00:59<00:00, 58.48it/s]\n",
      "100%|████████████████████████████████████████████████████████████████| 219/219 [00:03<00:00, 57.97it/s]\n"
     ]
    },
    {
     "name": "stdout",
     "output_type": "stream",
     "text": [
      "Training loss : 1.544567346572876\n",
      "Validation loss : 6.0366590131907705\n"
     ]
    },
    {
     "name": "stderr",
     "output_type": "stream",
     "text": [
      "Train Epoch[23/50] loss: 1.874: 100%|██████████████████████████████| 3494/3494 [00:59<00:00, 58.93it/s]\n",
      "100%|████████████████████████████████████████████████████████████████| 219/219 [00:03<00:00, 58.08it/s]\n"
     ]
    },
    {
     "name": "stdout",
     "output_type": "stream",
     "text": [
      "Training loss : 1.553951382637024\n",
      "Validation loss : 6.204234330077149\n"
     ]
    },
    {
     "name": "stderr",
     "output_type": "stream",
     "text": [
      "Train Epoch[24/50] loss: 2.530: 100%|██████████████████████████████| 3494/3494 [00:59<00:00, 58.76it/s]\n",
      "100%|████████████████████████████████████████████████████████████████| 219/219 [00:03<00:00, 58.20it/s]\n"
     ]
    },
    {
     "name": "stdout",
     "output_type": "stream",
     "text": [
      "Training loss : 1.5677146911621094\n",
      "Validation loss : 6.230393322091125\n"
     ]
    },
    {
     "name": "stderr",
     "output_type": "stream",
     "text": [
      "Train Epoch[25/50] loss: 1.795: 100%|██████████████████████████████| 3494/3494 [00:59<00:00, 58.48it/s]\n",
      "100%|████████████████████████████████████████████████████████████████| 219/219 [00:03<00:00, 57.84it/s]\n"
     ]
    },
    {
     "name": "stdout",
     "output_type": "stream",
     "text": [
      "Training loss : 1.5708231925964355\n",
      "Validation loss : 6.210097384779421\n"
     ]
    },
    {
     "name": "stderr",
     "output_type": "stream",
     "text": [
      "Train Epoch[26/50] loss: 1.733: 100%|██████████████████████████████| 3494/3494 [00:59<00:00, 58.74it/s]\n",
      "100%|████████████████████████████████████████████████████████████████| 219/219 [00:03<00:00, 55.44it/s]\n"
     ]
    },
    {
     "name": "stdout",
     "output_type": "stream",
     "text": [
      "Training loss : 1.5631242990493774\n",
      "Validation loss : 6.28144226988701\n"
     ]
    },
    {
     "name": "stderr",
     "output_type": "stream",
     "text": [
      "Train Epoch[27/50] loss: 1.783: 100%|██████████████████████████████| 3494/3494 [00:59<00:00, 58.48it/s]\n",
      "100%|████████████████████████████████████████████████████████████████| 219/219 [00:03<00:00, 57.95it/s]\n"
     ]
    },
    {
     "name": "stdout",
     "output_type": "stream",
     "text": [
      "Training loss : 1.566049337387085\n",
      "Validation loss : 6.2080913874656645\n"
     ]
    },
    {
     "name": "stderr",
     "output_type": "stream",
     "text": [
      "Train Epoch[28/50] loss: 1.984: 100%|██████████████████████████████| 3494/3494 [00:59<00:00, 58.51it/s]\n",
      "100%|████████████████████████████████████████████████████████████████| 219/219 [00:03<00:00, 58.03it/s]\n"
     ]
    },
    {
     "name": "stdout",
     "output_type": "stream",
     "text": [
      "Training loss : 1.5591442584991455\n",
      "Validation loss : 6.188242738105391\n"
     ]
    },
    {
     "name": "stderr",
     "output_type": "stream",
     "text": [
      "Train Epoch[29/50] loss: 2.019: 100%|██████████████████████████████| 3494/3494 [00:59<00:00, 58.67it/s]\n",
      "100%|████████████████████████████████████████████████████████████████| 219/219 [00:03<00:00, 55.41it/s]\n"
     ]
    },
    {
     "name": "stdout",
     "output_type": "stream",
     "text": [
      "Training loss : 1.5547209978103638\n",
      "Validation loss : 6.279437041173787\n"
     ]
    },
    {
     "name": "stderr",
     "output_type": "stream",
     "text": [
      "Train Epoch[30/50] loss: 1.871: 100%|██████████████████████████████| 3494/3494 [00:59<00:00, 59.13it/s]\n",
      "100%|████████████████████████████████████████████████████████████████| 219/219 [00:03<00:00, 56.35it/s]\n"
     ]
    },
    {
     "name": "stdout",
     "output_type": "stream",
     "text": [
      "Training loss : 1.5663124322891235\n",
      "Validation loss : 6.253218946935924\n"
     ]
    },
    {
     "name": "stderr",
     "output_type": "stream",
     "text": [
      "Train Epoch[31/50] loss: 1.695: 100%|██████████████████████████████| 3494/3494 [00:59<00:00, 59.07it/s]\n",
      "100%|████████████████████████████████████████████████████████████████| 219/219 [00:03<00:00, 57.80it/s]\n"
     ]
    },
    {
     "name": "stdout",
     "output_type": "stream",
     "text": [
      "Training loss : 1.5686419010162354\n",
      "Validation loss : 6.220671061511453\n"
     ]
    },
    {
     "name": "stderr",
     "output_type": "stream",
     "text": [
      "Train Epoch[32/50] loss: 1.760: 100%|██████████████████████████████| 3494/3494 [00:59<00:00, 58.93it/s]\n",
      "100%|████████████████████████████████████████████████████████████████| 219/219 [00:03<00:00, 57.65it/s]\n"
     ]
    },
    {
     "name": "stdout",
     "output_type": "stream",
     "text": [
      "Training loss : 1.5658631324768066\n",
      "Validation loss : 6.242180780733013\n"
     ]
    },
    {
     "name": "stderr",
     "output_type": "stream",
     "text": [
      "Train Epoch[33/50] loss: 2.105: 100%|██████████████████████████████| 3494/3494 [00:59<00:00, 58.56it/s]\n",
      "100%|████████████████████████████████████████████████████████████████| 219/219 [00:03<00:00, 58.07it/s]\n"
     ]
    },
    {
     "name": "stdout",
     "output_type": "stream",
     "text": [
      "Training loss : 1.5612707138061523\n",
      "Validation loss : 6.293860607495591\n"
     ]
    },
    {
     "name": "stderr",
     "output_type": "stream",
     "text": [
      "Train Epoch[34/50] loss: 1.864: 100%|██████████████████████████████| 3494/3494 [00:59<00:00, 58.26it/s]\n",
      "100%|████████████████████████████████████████████████████████████████| 219/219 [00:04<00:00, 48.47it/s]\n"
     ]
    },
    {
     "name": "stdout",
     "output_type": "stream",
     "text": [
      "Training loss : 1.5689494609832764\n",
      "Validation loss : 6.32179690496018\n"
     ]
    },
    {
     "name": "stderr",
     "output_type": "stream",
     "text": [
      "Train Epoch[35/50] loss: 1.842: 100%|██████████████████████████████| 3494/3494 [00:59<00:00, 58.79it/s]\n",
      "100%|████████████████████████████████████████████████████████████████| 219/219 [00:03<00:00, 58.03it/s]\n"
     ]
    },
    {
     "name": "stdout",
     "output_type": "stream",
     "text": [
      "Training loss : 1.566918134689331\n",
      "Validation loss : 6.2883196835104185\n"
     ]
    },
    {
     "name": "stderr",
     "output_type": "stream",
     "text": [
      "Train Epoch[36/50] loss: 1.671: 100%|██████████████████████████████| 3494/3494 [00:59<00:00, 58.85it/s]\n",
      "100%|████████████████████████████████████████████████████████████████| 219/219 [00:03<00:00, 58.03it/s]\n"
     ]
    },
    {
     "name": "stdout",
     "output_type": "stream",
     "text": [
      "Training loss : 1.564460039138794\n",
      "Validation loss : 6.348113517238669\n"
     ]
    },
    {
     "name": "stderr",
     "output_type": "stream",
     "text": [
      "Train Epoch[37/50] loss: 1.692: 100%|██████████████████████████████| 3494/3494 [00:59<00:00, 58.59it/s]\n",
      "100%|████████████████████████████████████████████████████████████████| 219/219 [00:04<00:00, 50.00it/s]\n"
     ]
    },
    {
     "name": "stdout",
     "output_type": "stream",
     "text": [
      "Training loss : 1.5620145797729492\n",
      "Validation loss : 6.364440935387459\n"
     ]
    },
    {
     "name": "stderr",
     "output_type": "stream",
     "text": [
      "Train Epoch[38/50] loss: 1.843: 100%|██████████████████████████████| 3494/3494 [00:59<00:00, 58.69it/s]\n",
      "100%|████████████████████████████████████████████████████████████████| 219/219 [00:03<00:00, 58.13it/s]\n"
     ]
    },
    {
     "name": "stdout",
     "output_type": "stream",
     "text": [
      "Training loss : 1.5543667078018188\n",
      "Validation loss : 6.164866929729235\n"
     ]
    },
    {
     "name": "stderr",
     "output_type": "stream",
     "text": [
      "Train Epoch[39/50] loss: 1.995: 100%|██████████████████████████████| 3494/3494 [00:59<00:00, 58.69it/s]\n",
      "100%|████████████████████████████████████████████████████████████████| 219/219 [00:03<00:00, 58.16it/s]\n"
     ]
    },
    {
     "name": "stdout",
     "output_type": "stream",
     "text": [
      "Training loss : 1.5497463941574097\n",
      "Validation loss : 6.146025710998605\n"
     ]
    },
    {
     "name": "stderr",
     "output_type": "stream",
     "text": [
      "Train Epoch[40/50] loss: 1.713: 100%|██████████████████████████████| 3494/3494 [00:59<00:00, 58.50it/s]\n",
      "100%|████████████████████████████████████████████████████████████████| 219/219 [00:03<00:00, 58.18it/s]\n"
     ]
    },
    {
     "name": "stdout",
     "output_type": "stream",
     "text": [
      "Training loss : 1.556405782699585\n",
      "Validation loss : 6.199074685301411\n"
     ]
    },
    {
     "name": "stderr",
     "output_type": "stream",
     "text": [
      "Train Epoch[41/50] loss: 1.658: 100%|██████████████████████████████| 3494/3494 [00:59<00:00, 58.81it/s]\n",
      "100%|████████████████████████████████████████████████████████████████| 219/219 [00:04<00:00, 53.40it/s]\n"
     ]
    },
    {
     "name": "stdout",
     "output_type": "stream",
     "text": [
      "Training loss : 1.55112624168396\n",
      "Validation loss : 6.176541779139271\n"
     ]
    },
    {
     "name": "stderr",
     "output_type": "stream",
     "text": [
      "Train Epoch[42/50] loss: 1.699: 100%|██████████████████████████████| 3494/3494 [00:59<00:00, 58.68it/s]\n",
      "100%|████████████████████████████████████████████████████████████████| 219/219 [00:03<00:00, 58.07it/s]\n"
     ]
    },
    {
     "name": "stdout",
     "output_type": "stream",
     "text": [
      "Training loss : 1.546141505241394\n",
      "Validation loss : 6.173552154950356\n"
     ]
    },
    {
     "name": "stderr",
     "output_type": "stream",
     "text": [
      "Train Epoch[43/50] loss: 1.840: 100%|██████████████████████████████| 3494/3494 [00:59<00:00, 58.90it/s]\n",
      "100%|████████████████████████████████████████████████████████████████| 219/219 [00:03<00:00, 58.20it/s]\n"
     ]
    },
    {
     "name": "stdout",
     "output_type": "stream",
     "text": [
      "Training loss : 1.5431993007659912\n",
      "Validation loss : 6.161238588154588\n"
     ]
    },
    {
     "name": "stderr",
     "output_type": "stream",
     "text": [
      "Train Epoch[44/50] loss: 1.948: 100%|██████████████████████████████| 3494/3494 [00:59<00:00, 58.63it/s]\n",
      "100%|████████████████████████████████████████████████████████████████| 219/219 [00:03<00:00, 58.22it/s]\n"
     ]
    },
    {
     "name": "stdout",
     "output_type": "stream",
     "text": [
      "Training loss : 1.5442733764648438\n",
      "Validation loss : 6.129790886352051\n"
     ]
    },
    {
     "name": "stderr",
     "output_type": "stream",
     "text": [
      "Train Epoch[45/50] loss: 2.202: 100%|██████████████████████████████| 3494/3494 [00:59<00:00, 58.88it/s]\n",
      "100%|████████████████████████████████████████████████████████████████| 219/219 [00:03<00:00, 58.06it/s]\n"
     ]
    },
    {
     "name": "stdout",
     "output_type": "stream",
     "text": [
      "Training loss : 1.5412137508392334\n",
      "Validation loss : 6.099278315017212\n"
     ]
    },
    {
     "name": "stderr",
     "output_type": "stream",
     "text": [
      "Train Epoch[46/50] loss: 1.948: 100%|██████████████████████████████| 3494/3494 [00:59<00:00, 58.88it/s]\n",
      "100%|████████████████████████████████████████████████████████████████| 219/219 [00:03<00:00, 58.10it/s]\n"
     ]
    },
    {
     "name": "stdout",
     "output_type": "stream",
     "text": [
      "Training loss : 1.5504685640335083\n",
      "Validation loss : 6.1825863231807\n"
     ]
    },
    {
     "name": "stderr",
     "output_type": "stream",
     "text": [
      "Train Epoch[47/50] loss: 2.069: 100%|██████████████████████████████| 3494/3494 [00:59<00:00, 58.54it/s]\n",
      "100%|████████████████████████████████████████████████████████████████| 219/219 [00:03<00:00, 56.51it/s]\n"
     ]
    },
    {
     "name": "stdout",
     "output_type": "stream",
     "text": [
      "Training loss : 1.5502655506134033\n",
      "Validation loss : 6.232020813036183\n"
     ]
    },
    {
     "name": "stderr",
     "output_type": "stream",
     "text": [
      "Train Epoch[48/50] loss: 1.778: 100%|██████████████████████████████| 3494/3494 [00:59<00:00, 58.60it/s]\n",
      "100%|████████████████████████████████████████████████████████████████| 219/219 [00:03<00:00, 57.95it/s]\n"
     ]
    },
    {
     "name": "stdout",
     "output_type": "stream",
     "text": [
      "Training loss : 1.5457112789154053\n",
      "Validation loss : 6.102384778462588\n"
     ]
    },
    {
     "name": "stderr",
     "output_type": "stream",
     "text": [
      "Train Epoch[49/50] loss: 1.930: 100%|██████████████████████████████| 3494/3494 [00:59<00:00, 58.79it/s]\n",
      "100%|████████████████████████████████████████████████████████████████| 219/219 [00:03<00:00, 58.26it/s]\n"
     ]
    },
    {
     "name": "stdout",
     "output_type": "stream",
     "text": [
      "Training loss : 1.5456780195236206\n",
      "Validation loss : 6.095512760284285\n"
     ]
    },
    {
     "name": "stderr",
     "output_type": "stream",
     "text": [
      "Train Epoch[50/50] loss: 1.892: 100%|██████████████████████████████| 3494/3494 [00:59<00:00, 58.56it/s]\n",
      "100%|████████████████████████████████████████████████████████████████| 219/219 [00:03<00:00, 58.18it/s]\n"
     ]
    },
    {
     "name": "stdout",
     "output_type": "stream",
     "text": [
      "Training loss : 1.541133165359497\n",
      "Validation loss : 6.113015030072704\n",
      "===============================================================================================\n",
      "======================= Batch 8 | Learning Rate 1e-05 | MIDX 4 =======================\n",
      "===============================================================================================\n"
     ]
    },
    {
     "name": "stderr",
     "output_type": "stream",
     "text": [
      "Train Epoch[1/50] loss: 3.879: 100%|███████████████████████████████| 1747/1747 [01:01<00:00, 28.56it/s]\n",
      "100%|████████████████████████████████████████████████████████████████| 219/219 [00:03<00:00, 59.35it/s]\n"
     ]
    },
    {
     "name": "stdout",
     "output_type": "stream",
     "text": [
      "Training loss : 3.763284206390381\n",
      "Validation loss : 6.579748000184151\n"
     ]
    },
    {
     "name": "stderr",
     "output_type": "stream",
     "text": [
      "Train Epoch[2/50] loss: 2.994: 100%|███████████████████████████████| 1747/1747 [00:49<00:00, 34.98it/s]\n",
      "100%|████████████████████████████████████████████████████████████████| 219/219 [00:04<00:00, 46.92it/s]\n"
     ]
    },
    {
     "name": "stdout",
     "output_type": "stream",
     "text": [
      "Training loss : 3.442450523376465\n",
      "Validation loss : 5.979564776703647\n"
     ]
    },
    {
     "name": "stderr",
     "output_type": "stream",
     "text": [
      "Train Epoch[3/50] loss: 2.915: 100%|███████████████████████████████| 1747/1747 [00:51<00:00, 33.74it/s]\n",
      "100%|████████████████████████████████████████████████████████████████| 219/219 [00:04<00:00, 52.64it/s]\n"
     ]
    },
    {
     "name": "stdout",
     "output_type": "stream",
     "text": [
      "Training loss : 3.233729839324951\n",
      "Validation loss : 5.884538135027777\n"
     ]
    },
    {
     "name": "stderr",
     "output_type": "stream",
     "text": [
      "Train Epoch[4/50] loss: 2.642: 100%|███████████████████████████████| 1747/1747 [00:51<00:00, 34.01it/s]\n",
      "100%|████████████████████████████████████████████████████████████████| 219/219 [00:04<00:00, 49.80it/s]\n"
     ]
    },
    {
     "name": "stdout",
     "output_type": "stream",
     "text": [
      "Training loss : 3.082674741744995\n",
      "Validation loss : 5.728651406558137\n"
     ]
    },
    {
     "name": "stderr",
     "output_type": "stream",
     "text": [
      "Train Epoch[5/50] loss: 2.839: 100%|███████████████████████████████| 1747/1747 [00:50<00:00, 34.67it/s]\n",
      "100%|████████████████████████████████████████████████████████████████| 219/219 [00:04<00:00, 52.03it/s]\n"
     ]
    },
    {
     "name": "stdout",
     "output_type": "stream",
     "text": [
      "Training loss : 2.9712188243865967\n",
      "Validation loss : 5.5733158762596515\n"
     ]
    },
    {
     "name": "stderr",
     "output_type": "stream",
     "text": [
      "Train Epoch[6/50] loss: 3.193: 100%|███████████████████████████████| 1747/1747 [00:51<00:00, 33.66it/s]\n",
      "100%|████████████████████████████████████████████████████████████████| 219/219 [00:04<00:00, 48.22it/s]\n"
     ]
    },
    {
     "name": "stdout",
     "output_type": "stream",
     "text": [
      "Training loss : 2.8770666122436523\n",
      "Validation loss : 5.48991075335028\n"
     ]
    },
    {
     "name": "stderr",
     "output_type": "stream",
     "text": [
      "Train Epoch[7/50] loss: 2.749: 100%|███████████████████████████████| 1747/1747 [00:52<00:00, 33.13it/s]\n",
      "100%|████████████████████████████████████████████████████████████████| 219/219 [00:04<00:00, 46.27it/s]\n"
     ]
    },
    {
     "name": "stdout",
     "output_type": "stream",
     "text": [
      "Training loss : 2.7745254039764404\n",
      "Validation loss : 5.330520196592427\n"
     ]
    },
    {
     "name": "stderr",
     "output_type": "stream",
     "text": [
      "Train Epoch[8/50] loss: 2.961: 100%|███████████████████████████████| 1747/1747 [00:50<00:00, 34.94it/s]\n",
      "100%|████████████████████████████████████████████████████████████████| 219/219 [00:04<00:00, 49.96it/s]\n"
     ]
    },
    {
     "name": "stdout",
     "output_type": "stream",
     "text": [
      "Training loss : 2.6830990314483643\n",
      "Validation loss : 5.102849573849543\n"
     ]
    },
    {
     "name": "stderr",
     "output_type": "stream",
     "text": [
      "Train Epoch[9/50] loss: 2.517: 100%|███████████████████████████████| 1747/1747 [00:51<00:00, 34.15it/s]\n",
      "100%|████████████████████████████████████████████████████████████████| 219/219 [00:04<00:00, 51.68it/s]\n"
     ]
    },
    {
     "name": "stdout",
     "output_type": "stream",
     "text": [
      "Training loss : 2.581009864807129\n",
      "Validation loss : 4.919493383468558\n"
     ]
    },
    {
     "name": "stderr",
     "output_type": "stream",
     "text": [
      "Train Epoch[10/50] loss: 2.849: 100%|██████████████████████████████| 1747/1747 [00:51<00:00, 33.61it/s]\n",
      "100%|████████████████████████████████████████████████████████████████| 219/219 [00:04<00:00, 49.44it/s]\n"
     ]
    },
    {
     "name": "stdout",
     "output_type": "stream",
     "text": [
      "Training loss : 2.492418050765991\n",
      "Validation loss : 4.792437001450421\n"
     ]
    },
    {
     "name": "stderr",
     "output_type": "stream",
     "text": [
      "Train Epoch[11/50] loss: 2.803: 100%|██████████████████████████████| 1747/1747 [00:51<00:00, 33.87it/s]\n",
      "100%|████████████████████████████████████████████████████████████████| 219/219 [00:04<00:00, 47.38it/s]\n"
     ]
    },
    {
     "name": "stdout",
     "output_type": "stream",
     "text": [
      "Training loss : 2.4249587059020996\n",
      "Validation loss : 4.7104990966788165\n"
     ]
    },
    {
     "name": "stderr",
     "output_type": "stream",
     "text": [
      "Train Epoch[12/50] loss: 2.565: 100%|██████████████████████████████| 1747/1747 [00:52<00:00, 33.35it/s]\n",
      "100%|████████████████████████████████████████████████████████████████| 219/219 [00:04<00:00, 44.57it/s]\n"
     ]
    },
    {
     "name": "stdout",
     "output_type": "stream",
     "text": [
      "Training loss : 2.376657009124756\n",
      "Validation loss : 4.609161375864455\n"
     ]
    },
    {
     "name": "stderr",
     "output_type": "stream",
     "text": [
      "Train Epoch[13/50] loss: 2.709: 100%|██████████████████████████████| 1747/1747 [00:52<00:00, 33.00it/s]\n",
      "100%|████████████████████████████████████████████████████████████████| 219/219 [00:04<00:00, 47.26it/s]\n"
     ]
    },
    {
     "name": "stdout",
     "output_type": "stream",
     "text": [
      "Training loss : 2.325796365737915\n",
      "Validation loss : 4.5819000947421\n"
     ]
    },
    {
     "name": "stderr",
     "output_type": "stream",
     "text": [
      "Train Epoch[14/50] loss: 2.101: 100%|██████████████████████████████| 1747/1747 [00:51<00:00, 33.73it/s]\n",
      "100%|████████████████████████████████████████████████████████████████| 219/219 [00:04<00:00, 48.31it/s]\n"
     ]
    },
    {
     "name": "stdout",
     "output_type": "stream",
     "text": [
      "Training loss : 2.295560836791992\n",
      "Validation loss : 4.55176633623637\n"
     ]
    },
    {
     "name": "stderr",
     "output_type": "stream",
     "text": [
      "Train Epoch[15/50] loss: 2.205: 100%|██████████████████████████████| 1747/1747 [00:54<00:00, 32.10it/s]\n",
      "100%|████████████████████████████████████████████████████████████████| 219/219 [00:04<00:00, 47.96it/s]\n"
     ]
    },
    {
     "name": "stdout",
     "output_type": "stream",
     "text": [
      "Training loss : 2.261018991470337\n",
      "Validation loss : 4.484276093848764\n"
     ]
    },
    {
     "name": "stderr",
     "output_type": "stream",
     "text": [
      "Train Epoch[16/50] loss: 2.130: 100%|██████████████████████████████| 1747/1747 [00:50<00:00, 34.91it/s]\n",
      "100%|████████████████████████████████████████████████████████████████| 219/219 [00:04<00:00, 50.12it/s]\n"
     ]
    },
    {
     "name": "stdout",
     "output_type": "stream",
     "text": [
      "Training loss : 2.237039089202881\n",
      "Validation loss : 4.480990981946797\n"
     ]
    },
    {
     "name": "stderr",
     "output_type": "stream",
     "text": [
      "Train Epoch[17/50] loss: 1.811: 100%|██████████████████████████████| 1747/1747 [00:53<00:00, 32.89it/s]\n",
      "100%|████████████████████████████████████████████████████████████████| 219/219 [00:04<00:00, 48.03it/s]\n"
     ]
    },
    {
     "name": "stdout",
     "output_type": "stream",
     "text": [
      "Training loss : 2.208997964859009\n",
      "Validation loss : 4.46775743188379\n"
     ]
    },
    {
     "name": "stderr",
     "output_type": "stream",
     "text": [
      "Train Epoch[18/50] loss: 2.140: 100%|██████████████████████████████| 1747/1747 [00:51<00:00, 34.24it/s]\n",
      "100%|████████████████████████████████████████████████████████████████| 219/219 [00:04<00:00, 48.81it/s]\n"
     ]
    },
    {
     "name": "stdout",
     "output_type": "stream",
     "text": [
      "Training loss : 2.185049533843994\n",
      "Validation loss : 4.464247326872664\n"
     ]
    },
    {
     "name": "stderr",
     "output_type": "stream",
     "text": [
      "Train Epoch[19/50] loss: 2.099: 100%|██████████████████████████████| 1747/1747 [00:51<00:00, 34.01it/s]\n",
      "100%|████████████████████████████████████████████████████████████████| 219/219 [00:04<00:00, 51.68it/s]\n"
     ]
    },
    {
     "name": "stdout",
     "output_type": "stream",
     "text": [
      "Training loss : 2.157520294189453\n",
      "Validation loss : 4.463875214803164\n"
     ]
    },
    {
     "name": "stderr",
     "output_type": "stream",
     "text": [
      "Train Epoch[20/50] loss: 1.947: 100%|██████████████████████████████| 1747/1747 [00:51<00:00, 34.12it/s]\n",
      "100%|████████████████████████████████████████████████████████████████| 219/219 [00:04<00:00, 50.07it/s]\n"
     ]
    },
    {
     "name": "stdout",
     "output_type": "stream",
     "text": [
      "Training loss : 2.138709783554077\n",
      "Validation loss : 4.364201669279299\n"
     ]
    },
    {
     "name": "stderr",
     "output_type": "stream",
     "text": [
      "Train Epoch[21/50] loss: 2.313: 100%|██████████████████████████████| 1747/1747 [00:51<00:00, 33.67it/s]\n",
      "100%|████████████████████████████████████████████████████████████████| 219/219 [00:04<00:00, 48.01it/s]\n"
     ]
    },
    {
     "name": "stdout",
     "output_type": "stream",
     "text": [
      "Training loss : 2.1132025718688965\n",
      "Validation loss : 4.372645711245602\n"
     ]
    },
    {
     "name": "stderr",
     "output_type": "stream",
     "text": [
      "Train Epoch[22/50] loss: 1.817: 100%|██████████████████████████████| 1747/1747 [00:52<00:00, 33.28it/s]\n",
      "100%|████████████████████████████████████████████████████████████████| 219/219 [00:04<00:00, 50.25it/s]\n"
     ]
    },
    {
     "name": "stdout",
     "output_type": "stream",
     "text": [
      "Training loss : 2.0912981033325195\n",
      "Validation loss : 4.365612841632268\n"
     ]
    },
    {
     "name": "stderr",
     "output_type": "stream",
     "text": [
      "Train Epoch[23/50] loss: 2.331: 100%|██████████████████████████████| 1747/1747 [00:50<00:00, 34.52it/s]\n",
      "100%|████████████████████████████████████████████████████████████████| 219/219 [00:04<00:00, 49.98it/s]\n"
     ]
    },
    {
     "name": "stdout",
     "output_type": "stream",
     "text": [
      "Training loss : 2.0631027221679688\n",
      "Validation loss : 4.469320696782848\n"
     ]
    },
    {
     "name": "stderr",
     "output_type": "stream",
     "text": [
      "Train Epoch[24/50] loss: 2.406: 100%|██████████████████████████████| 1747/1747 [00:52<00:00, 32.98it/s]\n",
      "100%|████████████████████████████████████████████████████████████████| 219/219 [00:04<00:00, 48.79it/s]\n"
     ]
    },
    {
     "name": "stdout",
     "output_type": "stream",
     "text": [
      "Training loss : 2.041435956954956\n",
      "Validation loss : 4.332312112529528\n"
     ]
    },
    {
     "name": "stderr",
     "output_type": "stream",
     "text": [
      "Train Epoch[25/50] loss: 2.090: 100%|██████████████████████████████| 1747/1747 [00:52<00:00, 33.14it/s]\n",
      "100%|████████████████████████████████████████████████████████████████| 219/219 [00:04<00:00, 48.48it/s]\n"
     ]
    },
    {
     "name": "stdout",
     "output_type": "stream",
     "text": [
      "Training loss : 2.0345535278320312\n",
      "Validation loss : 4.314257238009205\n"
     ]
    },
    {
     "name": "stderr",
     "output_type": "stream",
     "text": [
      "Train Epoch[26/50] loss: 2.317: 100%|██████████████████████████████| 1747/1747 [00:50<00:00, 34.33it/s]\n",
      "100%|████████████████████████████████████████████████████████████████| 219/219 [00:04<00:00, 49.19it/s]\n"
     ]
    },
    {
     "name": "stdout",
     "output_type": "stream",
     "text": [
      "Training loss : 2.003959894180298\n",
      "Validation loss : 4.347757790186634\n"
     ]
    },
    {
     "name": "stderr",
     "output_type": "stream",
     "text": [
      "Train Epoch[27/50] loss: 1.984: 100%|██████████████████████████████| 1747/1747 [00:54<00:00, 32.28it/s]\n",
      "100%|████████████████████████████████████████████████████████████████| 219/219 [00:04<00:00, 48.69it/s]\n"
     ]
    },
    {
     "name": "stdout",
     "output_type": "stream",
     "text": [
      "Training loss : 1.9822945594787598\n",
      "Validation loss : 4.299562643107758\n"
     ]
    },
    {
     "name": "stderr",
     "output_type": "stream",
     "text": [
      "Train Epoch[28/50] loss: 1.807: 100%|██████████████████████████████| 1747/1747 [00:50<00:00, 34.52it/s]\n",
      "100%|████████████████████████████████████████████████████████████████| 219/219 [00:04<00:00, 48.15it/s]\n"
     ]
    },
    {
     "name": "stdout",
     "output_type": "stream",
     "text": [
      "Training loss : 1.9804983139038086\n",
      "Validation loss : 4.265774742653381\n"
     ]
    },
    {
     "name": "stderr",
     "output_type": "stream",
     "text": [
      "Train Epoch[29/50] loss: 1.955: 100%|██████████████████████████████| 1747/1747 [00:53<00:00, 32.76it/s]\n",
      "100%|████████████████████████████████████████████████████████████████| 219/219 [00:04<00:00, 48.81it/s]\n"
     ]
    },
    {
     "name": "stdout",
     "output_type": "stream",
     "text": [
      "Training loss : 1.9419054985046387\n",
      "Validation loss : 4.276225637627519\n"
     ]
    },
    {
     "name": "stderr",
     "output_type": "stream",
     "text": [
      "Train Epoch[30/50] loss: 1.943: 100%|██████████████████████████████| 1747/1747 [00:51<00:00, 34.02it/s]\n",
      "100%|████████████████████████████████████████████████████████████████| 219/219 [00:04<00:00, 50.26it/s]\n"
     ]
    },
    {
     "name": "stdout",
     "output_type": "stream",
     "text": [
      "Training loss : 1.9262741804122925\n",
      "Validation loss : 4.39124888426637\n"
     ]
    },
    {
     "name": "stderr",
     "output_type": "stream",
     "text": [
      "Train Epoch[31/50] loss: 1.697: 100%|██████████████████████████████| 1747/1747 [00:54<00:00, 32.08it/s]\n",
      "100%|████████████████████████████████████████████████████████████████| 219/219 [00:04<00:00, 47.88it/s]\n"
     ]
    },
    {
     "name": "stdout",
     "output_type": "stream",
     "text": [
      "Training loss : 1.904319167137146\n",
      "Validation loss : 4.318846347125153\n"
     ]
    },
    {
     "name": "stderr",
     "output_type": "stream",
     "text": [
      "Train Epoch[32/50] loss: 2.140: 100%|██████████████████████████████| 1747/1747 [00:51<00:00, 33.91it/s]\n",
      "100%|████████████████████████████████████████████████████████████████| 219/219 [00:04<00:00, 47.05it/s]\n"
     ]
    },
    {
     "name": "stdout",
     "output_type": "stream",
     "text": [
      "Training loss : 1.8910646438598633\n",
      "Validation loss : 4.287454295920455\n"
     ]
    },
    {
     "name": "stderr",
     "output_type": "stream",
     "text": [
      "Train Epoch[33/50] loss: 1.813: 100%|██████████████████████████████| 1747/1747 [00:51<00:00, 34.22it/s]\n",
      "100%|████████████████████████████████████████████████████████████████| 219/219 [00:04<00:00, 52.73it/s]\n"
     ]
    },
    {
     "name": "stdout",
     "output_type": "stream",
     "text": [
      "Training loss : 1.8633263111114502\n",
      "Validation loss : 4.313576973736558\n"
     ]
    },
    {
     "name": "stderr",
     "output_type": "stream",
     "text": [
      "Train Epoch[34/50] loss: 1.716: 100%|██████████████████████████████| 1747/1747 [00:52<00:00, 33.12it/s]\n",
      "100%|████████████████████████████████████████████████████████████████| 219/219 [00:04<00:00, 48.85it/s]\n"
     ]
    },
    {
     "name": "stdout",
     "output_type": "stream",
     "text": [
      "Training loss : 1.8396788835525513\n",
      "Validation loss : 4.336627809424378\n"
     ]
    },
    {
     "name": "stderr",
     "output_type": "stream",
     "text": [
      "Train Epoch[35/50] loss: 1.975: 100%|██████████████████████████████| 1747/1747 [00:52<00:00, 33.35it/s]\n",
      "100%|████████████████████████████████████████████████████████████████| 219/219 [00:04<00:00, 47.77it/s]\n"
     ]
    },
    {
     "name": "stdout",
     "output_type": "stream",
     "text": [
      "Training loss : 1.8360775709152222\n",
      "Validation loss : 4.253933587575068\n"
     ]
    },
    {
     "name": "stderr",
     "output_type": "stream",
     "text": [
      "Train Epoch[36/50] loss: 1.724: 100%|██████████████████████████████| 1747/1747 [00:50<00:00, 34.36it/s]\n",
      "100%|████████████████████████████████████████████████████████████████| 219/219 [00:04<00:00, 53.02it/s]\n"
     ]
    },
    {
     "name": "stdout",
     "output_type": "stream",
     "text": [
      "Training loss : 1.8138104677200317\n",
      "Validation loss : 4.3426389329509645\n"
     ]
    },
    {
     "name": "stderr",
     "output_type": "stream",
     "text": [
      "Train Epoch[37/50] loss: 1.910: 100%|██████████████████████████████| 1747/1747 [00:53<00:00, 32.58it/s]\n",
      "100%|████████████████████████████████████████████████████████████████| 219/219 [00:04<00:00, 46.79it/s]\n"
     ]
    },
    {
     "name": "stdout",
     "output_type": "stream",
     "text": [
      "Training loss : 1.7963826656341553\n",
      "Validation loss : 4.306018592560128\n"
     ]
    },
    {
     "name": "stderr",
     "output_type": "stream",
     "text": [
      "Train Epoch[38/50] loss: 2.045: 100%|██████████████████████████████| 1747/1747 [00:52<00:00, 33.26it/s]\n",
      "100%|████████████████████████████████████████████████████████████████| 219/219 [00:04<00:00, 46.30it/s]\n"
     ]
    },
    {
     "name": "stdout",
     "output_type": "stream",
     "text": [
      "Training loss : 1.7664936780929565\n",
      "Validation loss : 4.328079659100537\n"
     ]
    },
    {
     "name": "stderr",
     "output_type": "stream",
     "text": [
      "Train Epoch[39/50] loss: 1.719: 100%|██████████████████████████████| 1747/1747 [00:54<00:00, 31.91it/s]\n",
      "100%|████████████████████████████████████████████████████████████████| 219/219 [00:04<00:00, 47.83it/s]\n"
     ]
    },
    {
     "name": "stdout",
     "output_type": "stream",
     "text": [
      "Training loss : 1.751455307006836\n",
      "Validation loss : 4.310403568559586\n"
     ]
    },
    {
     "name": "stderr",
     "output_type": "stream",
     "text": [
      "Train Epoch[40/50] loss: 1.920: 100%|██████████████████████████████| 1747/1747 [00:51<00:00, 34.06it/s]\n",
      "100%|████████████████████████████████████████████████████████████████| 219/219 [00:04<00:00, 47.47it/s]\n"
     ]
    },
    {
     "name": "stdout",
     "output_type": "stream",
     "text": [
      "Training loss : 1.7440170049667358\n",
      "Validation loss : 4.362882351766438\n"
     ]
    },
    {
     "name": "stderr",
     "output_type": "stream",
     "text": [
      "Train Epoch[41/50] loss: 1.872: 100%|██████████████████████████████| 1747/1747 [00:52<00:00, 33.08it/s]\n",
      "100%|████████████████████████████████████████████████████████████████| 219/219 [00:04<00:00, 49.45it/s]\n"
     ]
    },
    {
     "name": "stdout",
     "output_type": "stream",
     "text": [
      "Training loss : 1.7136704921722412\n",
      "Validation loss : 4.399358221929368\n"
     ]
    },
    {
     "name": "stderr",
     "output_type": "stream",
     "text": [
      "Train Epoch[42/50] loss: 2.300: 100%|██████████████████████████████| 1747/1747 [00:52<00:00, 33.32it/s]\n",
      "100%|████████████████████████████████████████████████████████████████| 219/219 [00:04<00:00, 48.10it/s]\n"
     ]
    },
    {
     "name": "stdout",
     "output_type": "stream",
     "text": [
      "Training loss : 1.7069131135940552\n",
      "Validation loss : 4.46608278087285\n"
     ]
    },
    {
     "name": "stderr",
     "output_type": "stream",
     "text": [
      "Train Epoch[43/50] loss: 1.785: 100%|██████████████████████████████| 1747/1747 [00:52<00:00, 33.09it/s]\n",
      "100%|████████████████████████████████████████████████████████████████| 219/219 [00:04<00:00, 46.12it/s]\n"
     ]
    },
    {
     "name": "stdout",
     "output_type": "stream",
     "text": [
      "Training loss : 1.6964060068130493\n",
      "Validation loss : 4.5010275176671\n"
     ]
    },
    {
     "name": "stderr",
     "output_type": "stream",
     "text": [
      "Train Epoch[44/50] loss: 1.819: 100%|██████████████████████████████| 1747/1747 [00:51<00:00, 33.84it/s]\n",
      "100%|████████████████████████████████████████████████████████████████| 219/219 [00:05<00:00, 43.22it/s]\n"
     ]
    },
    {
     "name": "stdout",
     "output_type": "stream",
     "text": [
      "Training loss : 1.671231746673584\n",
      "Validation loss : 4.489832279889007\n"
     ]
    },
    {
     "name": "stderr",
     "output_type": "stream",
     "text": [
      "Train Epoch[45/50] loss: 1.919: 100%|██████████████████████████████| 1747/1747 [00:54<00:00, 32.18it/s]\n",
      "100%|████████████████████████████████████████████████████████████████| 219/219 [00:04<00:00, 49.65it/s]\n"
     ]
    },
    {
     "name": "stdout",
     "output_type": "stream",
     "text": [
      "Training loss : 1.6456574201583862\n",
      "Validation loss : 4.531052367327964\n"
     ]
    },
    {
     "name": "stderr",
     "output_type": "stream",
     "text": [
      "Train Epoch[46/50] loss: 1.355: 100%|██████████████████████████████| 1747/1747 [00:51<00:00, 33.67it/s]\n",
      "100%|████████████████████████████████████████████████████████████████| 219/219 [00:04<00:00, 47.57it/s]\n"
     ]
    },
    {
     "name": "stdout",
     "output_type": "stream",
     "text": [
      "Training loss : 1.6448763608932495\n",
      "Validation loss : 4.622626703079432\n"
     ]
    },
    {
     "name": "stderr",
     "output_type": "stream",
     "text": [
      "Train Epoch[47/50] loss: 1.754: 100%|██████████████████████████████| 1747/1747 [00:51<00:00, 34.02it/s]\n",
      "100%|████████████████████████████████████████████████████████████████| 219/219 [00:04<00:00, 49.73it/s]\n"
     ]
    },
    {
     "name": "stdout",
     "output_type": "stream",
     "text": [
      "Training loss : 1.6117147207260132\n",
      "Validation loss : 4.503655276886405\n"
     ]
    },
    {
     "name": "stderr",
     "output_type": "stream",
     "text": [
      "Train Epoch[48/50] loss: 1.746: 100%|██████████████████████████████| 1747/1747 [00:54<00:00, 32.08it/s]\n",
      "100%|████████████████████████████████████████████████████████████████| 219/219 [00:04<00:00, 46.30it/s]\n"
     ]
    },
    {
     "name": "stdout",
     "output_type": "stream",
     "text": [
      "Training loss : 1.6019902229309082\n",
      "Validation loss : 4.7775867551429085\n"
     ]
    },
    {
     "name": "stderr",
     "output_type": "stream",
     "text": [
      "Train Epoch[49/50] loss: 1.780: 100%|██████████████████████████████| 1747/1747 [00:50<00:00, 34.32it/s]\n",
      "100%|████████████████████████████████████████████████████████████████| 219/219 [00:04<00:00, 48.48it/s]\n"
     ]
    },
    {
     "name": "stdout",
     "output_type": "stream",
     "text": [
      "Training loss : 1.5858045816421509\n",
      "Validation loss : 4.647426842554519\n"
     ]
    },
    {
     "name": "stderr",
     "output_type": "stream",
     "text": [
      "Train Epoch[50/50] loss: 1.825: 100%|██████████████████████████████| 1747/1747 [00:52<00:00, 32.98it/s]\n",
      "100%|████████████████████████████████████████████████████████████████| 219/219 [00:04<00:00, 46.54it/s]\n"
     ]
    },
    {
     "name": "stdout",
     "output_type": "stream",
     "text": [
      "Training loss : 1.5607588291168213\n",
      "Validation loss : 4.75735390567344\n",
      "===============================================================================================\n",
      "======================= Batch 8 | Learning Rate 5e-05 | MIDX 5 =======================\n",
      "===============================================================================================\n"
     ]
    },
    {
     "name": "stderr",
     "output_type": "stream",
     "text": [
      "Train Epoch[1/50] loss: 3.486: 100%|███████████████████████████████| 1747/1747 [00:51<00:00, 33.96it/s]\n",
      "100%|████████████████████████████████████████████████████████████████| 219/219 [00:04<00:00, 49.41it/s]\n"
     ]
    },
    {
     "name": "stdout",
     "output_type": "stream",
     "text": [
      "Training loss : 3.6226985454559326\n",
      "Validation loss : 6.04102922901171\n"
     ]
    },
    {
     "name": "stderr",
     "output_type": "stream",
     "text": [
      "Train Epoch[2/50] loss: 2.987: 100%|███████████████████████████████| 1747/1747 [00:52<00:00, 33.49it/s]\n",
      "100%|████████████████████████████████████████████████████████████████| 219/219 [00:04<00:00, 48.72it/s]\n"
     ]
    },
    {
     "name": "stdout",
     "output_type": "stream",
     "text": [
      "Training loss : 3.0025734901428223\n",
      "Validation loss : 5.397710758801464\n"
     ]
    },
    {
     "name": "stderr",
     "output_type": "stream",
     "text": [
      "Train Epoch[3/50] loss: 2.154: 100%|███████████████████████████████| 1747/1747 [00:53<00:00, 32.86it/s]\n",
      "100%|████████████████████████████████████████████████████████████████| 219/219 [00:04<00:00, 49.58it/s]\n"
     ]
    },
    {
     "name": "stdout",
     "output_type": "stream",
     "text": [
      "Training loss : 2.688961982727051\n",
      "Validation loss : 4.9524856898338285\n"
     ]
    },
    {
     "name": "stderr",
     "output_type": "stream",
     "text": [
      "Train Epoch[4/50] loss: 2.146: 100%|███████████████████████████████| 1747/1747 [00:53<00:00, 32.45it/s]\n",
      "100%|████████████████████████████████████████████████████████████████| 219/219 [00:04<00:00, 45.26it/s]\n"
     ]
    },
    {
     "name": "stdout",
     "output_type": "stream",
     "text": [
      "Training loss : 2.480496883392334\n",
      "Validation loss : 4.842775644777028\n"
     ]
    },
    {
     "name": "stderr",
     "output_type": "stream",
     "text": [
      "Train Epoch[5/50] loss: 1.953: 100%|███████████████████████████████| 1747/1747 [00:51<00:00, 33.84it/s]\n",
      "100%|████████████████████████████████████████████████████████████████| 219/219 [00:04<00:00, 50.96it/s]\n"
     ]
    },
    {
     "name": "stdout",
     "output_type": "stream",
     "text": [
      "Training loss : 2.3579297065734863\n",
      "Validation loss : 4.560610078785517\n"
     ]
    },
    {
     "name": "stderr",
     "output_type": "stream",
     "text": [
      "Train Epoch[6/50] loss: 2.338: 100%|███████████████████████████████| 1747/1747 [00:51<00:00, 33.79it/s]\n",
      "100%|████████████████████████████████████████████████████████████████| 219/219 [00:04<00:00, 48.09it/s]\n"
     ]
    },
    {
     "name": "stdout",
     "output_type": "stream",
     "text": [
      "Training loss : 2.2756381034851074\n",
      "Validation loss : 4.473787666455796\n"
     ]
    },
    {
     "name": "stderr",
     "output_type": "stream",
     "text": [
      "Train Epoch[7/50] loss: 1.859: 100%|███████████████████████████████| 1747/1747 [00:52<00:00, 33.25it/s]\n",
      "100%|████████████████████████████████████████████████████████████████| 219/219 [00:04<00:00, 49.96it/s]\n"
     ]
    },
    {
     "name": "stdout",
     "output_type": "stream",
     "text": [
      "Training loss : 2.201651096343994\n",
      "Validation loss : 4.2980957553811265\n"
     ]
    },
    {
     "name": "stderr",
     "output_type": "stream",
     "text": [
      "Train Epoch[8/50] loss: 1.834: 100%|███████████████████████████████| 1747/1747 [00:54<00:00, 32.20it/s]\n",
      "100%|████████████████████████████████████████████████████████████████| 219/219 [00:04<00:00, 44.91it/s]\n"
     ]
    },
    {
     "name": "stdout",
     "output_type": "stream",
     "text": [
      "Training loss : 2.1545140743255615\n",
      "Validation loss : 4.302462061790571\n"
     ]
    },
    {
     "name": "stderr",
     "output_type": "stream",
     "text": [
      "Train Epoch[9/50] loss: 1.559: 100%|███████████████████████████████| 1747/1747 [00:51<00:00, 33.71it/s]\n",
      "100%|████████████████████████████████████████████████████████████████| 219/219 [00:05<00:00, 43.36it/s]\n"
     ]
    },
    {
     "name": "stdout",
     "output_type": "stream",
     "text": [
      "Training loss : 2.083381414413452\n",
      "Validation loss : 4.28045641668311\n"
     ]
    },
    {
     "name": "stderr",
     "output_type": "stream",
     "text": [
      "Train Epoch[10/50] loss: 1.744: 100%|██████████████████████████████| 1747/1747 [00:51<00:00, 33.71it/s]\n",
      "100%|████████████████████████████████████████████████████████████████| 219/219 [00:04<00:00, 48.17it/s]\n"
     ]
    },
    {
     "name": "stdout",
     "output_type": "stream",
     "text": [
      "Training loss : 2.023449659347534\n",
      "Validation loss : 4.233966396279531\n"
     ]
    },
    {
     "name": "stderr",
     "output_type": "stream",
     "text": [
      "Train Epoch[11/50] loss: 1.477: 100%|██████████████████████████████| 1747/1747 [00:51<00:00, 34.04it/s]\n",
      "100%|████████████████████████████████████████████████████████████████| 219/219 [00:04<00:00, 50.06it/s]\n"
     ]
    },
    {
     "name": "stdout",
     "output_type": "stream",
     "text": [
      "Training loss : 1.9836816787719727\n",
      "Validation loss : 4.169139051001911\n",
      "Validation Loss Decrease.. Best Model, Best Loss update\n"
     ]
    },
    {
     "name": "stderr",
     "output_type": "stream",
     "text": [
      "Train Epoch[12/50] loss: 1.778: 100%|██████████████████████████████| 1747/1747 [00:54<00:00, 31.80it/s]\n",
      "100%|████████████████████████████████████████████████████████████████| 219/219 [00:04<00:00, 47.79it/s]\n"
     ]
    },
    {
     "name": "stdout",
     "output_type": "stream",
     "text": [
      "Training loss : 1.9440733194351196\n",
      "Validation loss : 4.210117613343888\n"
     ]
    },
    {
     "name": "stderr",
     "output_type": "stream",
     "text": [
      "Train Epoch[13/50] loss: 1.750: 100%|██████████████████████████████| 1747/1747 [00:51<00:00, 33.79it/s]\n",
      "100%|████████████████████████████████████████████████████████████████| 219/219 [00:04<00:00, 49.05it/s]\n"
     ]
    },
    {
     "name": "stdout",
     "output_type": "stream",
     "text": [
      "Training loss : 1.9111987352371216\n",
      "Validation loss : 4.183729619196017\n"
     ]
    },
    {
     "name": "stderr",
     "output_type": "stream",
     "text": [
      "Train Epoch[14/50] loss: 1.145: 100%|██████████████████████████████| 1747/1747 [00:52<00:00, 33.36it/s]\n",
      "100%|████████████████████████████████████████████████████████████████| 219/219 [00:04<00:00, 49.16it/s]\n"
     ]
    },
    {
     "name": "stdout",
     "output_type": "stream",
     "text": [
      "Training loss : 1.8701915740966797\n",
      "Validation loss : 4.173745494999298\n"
     ]
    },
    {
     "name": "stderr",
     "output_type": "stream",
     "text": [
      "Train Epoch[15/50] loss: 1.516: 100%|██████████████████████████████| 1747/1747 [00:53<00:00, 32.46it/s]\n",
      "100%|████████████████████████████████████████████████████████████████| 219/219 [00:05<00:00, 43.56it/s]\n"
     ]
    },
    {
     "name": "stdout",
     "output_type": "stream",
     "text": [
      "Training loss : 1.8218132257461548\n",
      "Validation loss : 4.218461605511844\n"
     ]
    },
    {
     "name": "stderr",
     "output_type": "stream",
     "text": [
      "Train Epoch[16/50] loss: 1.429: 100%|██████████████████████████████| 1747/1747 [00:53<00:00, 32.85it/s]\n",
      "100%|████████████████████████████████████████████████████████████████| 219/219 [00:04<00:00, 46.42it/s]\n"
     ]
    },
    {
     "name": "stdout",
     "output_type": "stream",
     "text": [
      "Training loss : 1.793021559715271\n",
      "Validation loss : 4.187052080076035\n"
     ]
    },
    {
     "name": "stderr",
     "output_type": "stream",
     "text": [
      "Train Epoch[17/50] loss: 1.533: 100%|██████████████████████████████| 1747/1747 [00:52<00:00, 33.03it/s]\n",
      "100%|████████████████████████████████████████████████████████████████| 219/219 [00:04<00:00, 46.73it/s]\n"
     ]
    },
    {
     "name": "stdout",
     "output_type": "stream",
     "text": [
      "Training loss : 1.7614604234695435\n",
      "Validation loss : 4.394020268361863\n"
     ]
    },
    {
     "name": "stderr",
     "output_type": "stream",
     "text": [
      "Train Epoch[18/50] loss: 1.272: 100%|██████████████████████████████| 1747/1747 [00:53<00:00, 32.72it/s]\n",
      "100%|████████████████████████████████████████████████████████████████| 219/219 [00:04<00:00, 48.39it/s]\n"
     ]
    },
    {
     "name": "stdout",
     "output_type": "stream",
     "text": [
      "Training loss : 1.7213667631149292\n",
      "Validation loss : 4.396201218099899\n"
     ]
    },
    {
     "name": "stderr",
     "output_type": "stream",
     "text": [
      "Train Epoch[19/50] loss: 1.486: 100%|██████████████████████████████| 1747/1747 [00:54<00:00, 32.13it/s]\n",
      "100%|████████████████████████████████████████████████████████████████| 219/219 [00:04<00:00, 49.13it/s]\n"
     ]
    },
    {
     "name": "stdout",
     "output_type": "stream",
     "text": [
      "Training loss : 1.6806564331054688\n",
      "Validation loss : 4.334081608410839\n"
     ]
    },
    {
     "name": "stderr",
     "output_type": "stream",
     "text": [
      "Train Epoch[20/50] loss: 1.038: 100%|██████████████████████████████| 1747/1747 [00:50<00:00, 34.28it/s]\n",
      "100%|████████████████████████████████████████████████████████████████| 219/219 [00:04<00:00, 49.52it/s]\n"
     ]
    },
    {
     "name": "stdout",
     "output_type": "stream",
     "text": [
      "Training loss : 1.6511327028274536\n",
      "Validation loss : 4.5459183258553075\n"
     ]
    },
    {
     "name": "stderr",
     "output_type": "stream",
     "text": [
      "Train Epoch[21/50] loss: 1.137: 100%|██████████████████████████████| 1747/1747 [00:51<00:00, 33.73it/s]\n",
      "100%|████████████████████████████████████████████████████████████████| 219/219 [00:04<00:00, 48.86it/s]\n"
     ]
    },
    {
     "name": "stdout",
     "output_type": "stream",
     "text": [
      "Training loss : 1.6319643259048462\n",
      "Validation loss : 4.430980232208287\n"
     ]
    },
    {
     "name": "stderr",
     "output_type": "stream",
     "text": [
      "Train Epoch[22/50] loss: 1.972:  48%|██████████████▊                | 835/1747 [00:25<00:27, 33.34it/s]\n"
     ]
    },
    {
     "ename": "KeyboardInterrupt",
     "evalue": "",
     "output_type": "error",
     "traceback": [
      "\u001b[0;31m---------------------------------------------------------------------------\u001b[0m",
      "\u001b[0;31mKeyboardInterrupt\u001b[0m                         Traceback (most recent call last)",
      "Cell \u001b[0;32mIn[17], line 51\u001b[0m\n\u001b[1;32m     49\u001b[0m     optimizer\u001b[38;5;241m.\u001b[39mstep()\n\u001b[1;32m     50\u001b[0m     train_total_loss \u001b[38;5;241m+\u001b[39m\u001b[38;5;241m=\u001b[39m loss\n\u001b[0;32m---> 51\u001b[0m     train_bar\u001b[38;5;241m.\u001b[39mdesc \u001b[38;5;241m=\u001b[39m \u001b[38;5;124m\"\u001b[39m\u001b[38;5;124mTrain Epoch[\u001b[39m\u001b[38;5;132;01m{}\u001b[39;00m\u001b[38;5;124m/\u001b[39m\u001b[38;5;132;01m{}\u001b[39;00m\u001b[38;5;124m] loss: \u001b[39m\u001b[38;5;132;01m{:.3f}\u001b[39;00m\u001b[38;5;124m\"\u001b[39m\u001b[38;5;241m.\u001b[39mformat(ep\u001b[38;5;241m+\u001b[39m\u001b[38;5;241m1\u001b[39m, epochs, \u001b[43mloss\u001b[49m\u001b[38;5;241;43m.\u001b[39;49m\u001b[43mitem\u001b[49m\u001b[43m(\u001b[49m\u001b[43m)\u001b[49m)\n\u001b[1;32m     52\u001b[0m     writer\u001b[38;5;241m.\u001b[39madd_scalar(\u001b[38;5;124mf\u001b[39m\u001b[38;5;124m\"\u001b[39m\u001b[38;5;124mTraining loss_Batch_\u001b[39m\u001b[38;5;132;01m{\u001b[39;00mbatch\u001b[38;5;132;01m}\u001b[39;00m\u001b[38;5;124m_\u001b[39m\u001b[38;5;132;01m{\u001b[39;00mlr\u001b[38;5;132;01m}\u001b[39;00m\u001b[38;5;124m\"\u001b[39m, loss, ep \u001b[38;5;241m*\u001b[39m \u001b[38;5;28mlen\u001b[39m(train_loader) \u001b[38;5;241m+\u001b[39m step)\n\u001b[1;32m     55\u001b[0m \u001b[38;5;28;01mwith\u001b[39;00m torch\u001b[38;5;241m.\u001b[39mno_grad():\n",
      "\u001b[0;31mKeyboardInterrupt\u001b[0m: "
     ]
    }
   ],
   "source": [
    "writer = SummaryWriter(\"runs/vit\")\n",
    "\n",
    "lr = 1e-5\n",
    "epochs = 100\n",
    "model = ViT()\n",
    "# criterion = nn.MultiLabelSoftMarginLoss()\n",
    "# criterion = ops.sigmoid_focal_loss()\n",
    "optimizer = optim.Adam(model.parameters(), lr=lr)\n",
    "early_stopping = EarlyStopping(patience=3, verbose=False)\n",
    "model.to(device)\n",
    "\n",
    "loss_list=[]\n",
    "val_loss_list = []\n",
    "\n",
    "best_loss = np.inf\n",
    "best_models = []\n",
    "loss_asl = AsymmetricLoss()\n",
    "\n",
    "idx = 0\n",
    "for batch in [1]:\n",
    "    writer = SummaryWriter(\"runs/vit/1121\")\n",
    "\n",
    "    train_loader = get_DataLoader(x_train, y_train, batch=batch, num_workers=num_workers, shuffle=False)\n",
    "    val_loader = get_DataLoader(x_valid, y_valid, batch=16, num_workers=num_workers, shuffle=False)\n",
    "    test_loader = get_DataLoader(x_test, y_test, batch=16, num_workers=num_workers, shuffle=False)\n",
    "    for lr in [5e-5]:\n",
    "        model = ViT()\n",
    "        model.to(device)\n",
    "        optimizer = optim.Adam(model.parameters(), lr=lr)\n",
    "        \n",
    "        print(f\"===============================================================================================\")\n",
    "        print(f\"======================= Batch {batch} | Learning Rate {lr} | MIDX {idx} =======================\")\n",
    "        print(f\"===============================================================================================\")\n",
    "        \n",
    "        for ep in range(epochs):\n",
    "            train_bar = tqdm(train_loader)\n",
    "            train_total_loss = 0\n",
    "            for step, (x,y) in enumerate(train_bar):\n",
    "                x, y = x.to(device), y.to(device)\n",
    "                \n",
    "                model.train()\n",
    "                logits = model(x)\n",
    "                # loss = criterion(logits, y)\n",
    "                loss = loss_asl(logits, y)\n",
    "                # print(loss.shape) # Batch, class\n",
    "                \n",
    "                optimizer.zero_grad()\n",
    "                loss.backward()\n",
    "                optimizer.step()\n",
    "                train_total_loss += loss\n",
    "                train_bar.desc = \"Train Epoch[{}/{}] loss: {:.3f}\".format(ep+1, epochs, loss.item())\n",
    "                writer.add_scalar(f\"Training loss_Batch_{batch}_{lr}\", loss, ep * len(train_loader) + step)\n",
    "        \n",
    "            \n",
    "            with torch.no_grad():\n",
    "                model.eval()\n",
    "                val_loss = 0.0\n",
    "                val_bar = tqdm(val_loader)\n",
    "                for v_step, (val_x, val_y) in enumerate(val_bar):\n",
    "                    val_x, val_y = val_x.to(device), val_y.to(device)\n",
    "                    val_logits = model(val_x)\n",
    "                    loss_v = loss_asl(val_logits, val_y)\n",
    "                    # loss_v = criterion(val_logits, val_y)\n",
    "                    val_loss_list.append(loss_v.item())\n",
    "                    val_loss += loss_v.item()\n",
    "                    writer.add_scalar(f\"Validation loss_Batch_{batch}_{lr}\", loss_v, ep * len(val_loader) + step)\n",
    "                print(\"Training loss :\",(train_total_loss/len(train_loader)).item())\n",
    "                print(\"Validation loss :\",val_loss/len(val_loader))\n",
    "        \n",
    "                if best_loss > val_loss:\n",
    "                    print(\"Validation Loss Decrease.. Best Model, Best Loss update\")\n",
    "                    best_loss = val_loss\n",
    "                    torch.save(model.state_dict(), f\"models/1121/Best_Saved_ViT_model_{round((val_loss/len(val_loader))*100,2)}_{ep}_{batch}.pth\")\n",
    "        idx+=1\n",
    "\n",
    "        torch.save(model.state_dict(), f\"models/1121/Best_Saved_ViT_model_FinalEpoch_{batch}_{lr}.pth\")\n",
    "        best_models.append(model)\n",
    "            \n",
    "#     early_stopping(loss.mean(), model)\n",
    "#     if early_stopping.early_stop:\n",
    "#         break\n",
    "#         if (i+1) % 5 == 0:\n",
    "#             logtis = logtis > 0.5\n",
    "#             acc = (logits == y).float().mean()\n",
    "#             print(f\"EPOCH : {ep} : Loss : {loss.mean().item():.5f}, Acc : {acc.item():.5f}\")\n",
    "    \n",
    "print(\"Evaluate\")\n",
    "Evaluate(model,test_loader)"
   ]
  },
  {
   "cell_type": "code",
   "execution_count": 27,
   "id": "eb3a8904-6716-4495-948d-8f14217fcf64",
   "metadata": {},
   "outputs": [
    {
     "data": {
      "text/plain": [
       "<All keys matched successfully>"
      ]
     },
     "execution_count": 27,
     "metadata": {},
     "output_type": "execute_result"
    }
   ],
   "source": [
    "model_best = ViT().to(device)\n",
    "# model.load_state_dict(torch.load(\"Best_Saved_ViT_model_f192.pth\"))\n",
    "# model_best.load_state_dict(torch.load(\"models/Best_Saved_ViT_model_1121_400.13_16_210.pth\")) #5e-5, 50, 8\n",
    "model_best.load_state_dict(torch.load(\"models/1121/Best_Saved_ViT_model_FinalEpoch_8_1e-05.pth\"))"
   ]
  },
  {
   "cell_type": "code",
   "execution_count": 28,
   "id": "6455948e-b1c3-4416-a3f7-641a5249ed20",
   "metadata": {},
   "outputs": [],
   "source": [
    "from sklearn.metrics import multilabel_confusion_matrix, hamming_loss, accuracy_score\n",
    "label_names = ['NORM', 'MI', 'STTC', 'HYP', 'CD']\n",
    "def extract_metrix(idx ,lr, batch ,model, test_loader):\n",
    "    model.eval()\n",
    "    test_bar = tqdm(test_loader)\n",
    "    total = len(test_loader.dataset)\n",
    "    logits_list = []\n",
    "    gt_list = []\n",
    "    for step, (x,y) in enumerate(test_bar):\n",
    "        x = x.to(device)\n",
    "        y = y.to(device)\n",
    "        with torch.no_grad():\n",
    "            logits = model(x).cpu().detach().numpy()\n",
    "    #             logits = logits.round()\n",
    "            logits = logits > 0.5\n",
    "            logits = logits.astype(int)\n",
    "            for l in logits:\n",
    "                logits_list.append(l)\n",
    "            y = y.cpu().detach().numpy()\n",
    "            for gt in y:\n",
    "    #                 print(gt.astype(int))\n",
    "                gt_list.append(gt.astype(int))\n",
    "    print(f\"==================== lr : {lr} | Batch : {batch} | Model IDX : {idx} ====================\")\n",
    "    print(f\"Exact Match Ratio, MR : : {accuracy_score(gt_list, logits_list)}\")\n",
    "    print(f\"Hamming Loss : {hamming_loss(gt_list, logits_list)}\")\n",
    "    print(classification_report(gt_list, logits_list, target_names=label_names))\n",
    "    MR = np.all(np.array(logits_list) == np.array(gt_list), axis=1).mean()"
   ]
  },
  {
   "cell_type": "code",
   "execution_count": 29,
   "id": "fe23e481-b168-4029-96b9-67dc75ec2c34",
   "metadata": {},
   "outputs": [
    {
     "name": "stderr",
     "output_type": "stream",
     "text": [
      "100%|████████████████████████████████████████████████████████████████| 273/273 [00:03<00:00, 68.38it/s]"
     ]
    },
    {
     "name": "stdout",
     "output_type": "stream",
     "text": [
      "==================== lr : 1e-05 | Batch : 1 | Model IDX : 0 ====================\n",
      "Exact Match Ratio, MR : : 0.5098443223443223\n",
      "Hamming Loss : 0.14665750915750916\n",
      "              precision    recall  f1-score   support\n",
      "\n",
      "        NORM       0.81      0.78      0.79      1717\n",
      "          MI       0.78      0.50      0.61      1222\n",
      "        STTC       0.73      0.55      0.63      1083\n",
      "         HYP       0.83      0.52      0.64      1016\n",
      "          CD       0.63      0.55      0.59       558\n",
      "\n",
      "   micro avg       0.77      0.61      0.68      5596\n",
      "   macro avg       0.76      0.58      0.65      5596\n",
      "weighted avg       0.77      0.61      0.67      5596\n",
      " samples avg       0.64      0.61      0.61      5596\n",
      "\n"
     ]
    },
    {
     "name": "stderr",
     "output_type": "stream",
     "text": [
      "\n",
      "/opt/conda/lib/python3.10/site-packages/sklearn/metrics/_classification.py:1471: UndefinedMetricWarning: Precision and F-score are ill-defined and being set to 0.0 in samples with no predicted labels. Use `zero_division` parameter to control this behavior.\n",
      "  _warn_prf(average, modifier, msg_start, len(result))\n",
      "/opt/conda/lib/python3.10/site-packages/sklearn/metrics/_classification.py:1471: UndefinedMetricWarning: Recall and F-score are ill-defined and being set to 0.0 in samples with no true labels. Use `zero_division` parameter to control this behavior.\n",
      "  _warn_prf(average, modifier, msg_start, len(result))\n"
     ]
    }
   ],
   "source": [
    "extract_metrix(0, 1e-5, 1, model_best, test_loader)"
   ]
  },
  {
   "cell_type": "code",
   "execution_count": null,
   "id": "12b339eb-9aa4-495f-a561-e03d119e8e9b",
   "metadata": {},
   "outputs": [],
   "source": [
    "extract_metrix(0, 1e-5, 1, model, test_loader)"
   ]
  },
  {
   "cell_type": "code",
   "execution_count": null,
   "id": "d5dc6efa-70a2-41b1-a8d4-0b8388e8d5e0",
   "metadata": {},
   "outputs": [],
   "source": []
  }
 ],
 "metadata": {
  "kernelspec": {
   "display_name": "Python 3 (ipykernel)",
   "language": "python",
   "name": "python3"
  },
  "language_info": {
   "codemirror_mode": {
    "name": "ipython",
    "version": 3
   },
   "file_extension": ".py",
   "mimetype": "text/x-python",
   "name": "python",
   "nbconvert_exporter": "python",
   "pygments_lexer": "ipython3",
   "version": "3.10.13"
  }
 },
 "nbformat": 4,
 "nbformat_minor": 5
}
